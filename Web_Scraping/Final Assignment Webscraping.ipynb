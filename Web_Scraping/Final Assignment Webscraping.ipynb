{
 "cells": [
  {
   "cell_type": "markdown",
   "metadata": {},
   "source": [
    "<center>\n",
    "    <img src=\"https://cf-courses-data.s3.us.cloud-object-storage.appdomain.cloud/IBMDeveloperSkillsNetwork-PY0220EN-SkillsNetwork/labs/project/Images/SN_logo.png\" width=\"300\" alt=\"cognitiveclass.ai logo\">\n",
    "</center>\n"
   ]
  },
  {
   "cell_type": "markdown",
   "metadata": {},
   "source": [
    "<h1>Extracting Stock Data Using a Web Scraping</h1>\n"
   ]
  },
  {
   "cell_type": "markdown",
   "metadata": {},
   "source": [
    "Not all stock data is available via API in this assignment; you will use web-scraping to obtain financial data. You will be quizzed on your results.  \n",
    " Using beautiful soup we will extract historical share data from a web-page.\n"
   ]
  },
  {
   "cell_type": "markdown",
   "metadata": {},
   "source": [
    "<h2>Table of Contents</h2>\n",
    "<div class=\"alert alert-block alert-info\" style=\"margin-top: 20px\">\n",
    "    \n",
    "1. Extracting data using Beautiful soup\n",
    "   \n",
    "    <ul> \n",
    "    <li> Downloading the Webpage Using Requests Library </li>\n",
    "    <li> Parsing Webpage HTML Using BeautifulSoup </li>\n",
    "    <li> Extracting Data and Building DataFrame </li>\n",
    "\n",
    "    </ul>\n",
    "\n",
    "2. Extracting data using pandas\n",
    "3. Exercise\n",
    "<p>\n",
    "    Estimated Time Needed: <strong>30 min</strong></p>\n",
    "</div>\n",
    "\n",
    "<hr>\n"
   ]
  },
  {
   "cell_type": "code",
   "execution_count": 1,
   "metadata": {
    "tags": []
   },
   "outputs": [
    {
     "name": "stdout",
     "output_type": "stream",
     "text": [
      "\n",
      "                  __    __    __    __\n",
      "                 /  \\  /  \\  /  \\  /  \\\n",
      "                /    \\/    \\/    \\/    \\\n",
      "███████████████/  /██/  /██/  /██/  /████████████████████████\n",
      "              /  / \\   / \\   / \\   / \\  \\____\n",
      "             /  /   \\_/   \\_/   \\_/   \\    o \\__,\n",
      "            / _/                       \\_____/  `\n",
      "            |/\n",
      "        ███╗   ███╗ █████╗ ███╗   ███╗██████╗  █████╗\n",
      "        ████╗ ████║██╔══██╗████╗ ████║██╔══██╗██╔══██╗\n",
      "        ██╔████╔██║███████║██╔████╔██║██████╔╝███████║\n",
      "        ██║╚██╔╝██║██╔══██║██║╚██╔╝██║██╔══██╗██╔══██║\n",
      "        ██║ ╚═╝ ██║██║  ██║██║ ╚═╝ ██║██████╔╝██║  ██║\n",
      "        ╚═╝     ╚═╝╚═╝  ╚═╝╚═╝     ╚═╝╚═════╝ ╚═╝  ╚═╝\n",
      "\n",
      "        mamba (1.4.2) supported by @QuantStack\n",
      "\n",
      "        GitHub:  https://github.com/mamba-org/mamba\n",
      "        Twitter: https://twitter.com/QuantStack\n",
      "\n",
      "█████████████████████████████████████████████████████████████\n",
      "\n",
      "\n",
      "Looking for: ['bs4==4.10.0']\n",
      "\n",
      "\u001b[?25l\u001b[2K\u001b[0G[+] 0.0s\n",
      "\u001b[2K\u001b[1A\u001b[2K\u001b[0G[+] 0.1s\n",
      "pkgs/main/linux-64 \u001b[90m╸\u001b[0m\u001b[33m━━━━━━━━━━━━━━━╸\u001b[0m\u001b[90m━━━━━━━━\u001b[0m   0.0 B /  ??.?MB @  ??.?MB/s  0.1s\n",
      "pkgs/main/noarch   \u001b[33m━━━━━━━━━━━━━━━╸\u001b[0m\u001b[90m━━━━━━━━━\u001b[0m   0.0 B /  ??.?MB @  ??.?MB/s  0.1s\n",
      "pkgs/r/linux-64    \u001b[90m━━━━━━━━╸\u001b[0m\u001b[33m━━━━━━━━━━━━━━━━\u001b[0m   0.0 B /  ??.?MB @  ??.?MB/s  0.1s\n",
      "pkgs/r/noarch      \u001b[90m━━━━━━━╸\u001b[0m\u001b[33m━━━━━━━━━━━━━━━╸\u001b[0m\u001b[90m━\u001b[0m   0.0 B /  ??.?MB @  ??.?MB/s  0.1s\u001b[2K\u001b[1A\u001b[2K\u001b[1A\u001b[2K\u001b[1A\u001b[2K\u001b[1A\u001b[2K\u001b[0G[+] 0.2s\n",
      "pkgs/main/linux-64 \u001b[90m━━╸\u001b[0m\u001b[33m━━━━━━━━━━━━━━━╸\u001b[0m\u001b[90m━━━━━━\u001b[0m  73.7kB /  ??.?MB @ 479.8kB/s  0.2s\n",
      "pkgs/main/noarch   \u001b[90m━━╸\u001b[0m\u001b[33m━━━━━━━━━━━━━━━╸\u001b[0m\u001b[90m━━━━━━\u001b[0m  57.4kB /  ??.?MB @ 372.7kB/s  0.2s\n",
      "pkgs/r/linux-64    \u001b[90m━━━━━━━━━━╸\u001b[0m\u001b[33m━━━━━━━━━━━━━━\u001b[0m  45.1kB /  ??.?MB @ 292.0kB/s  0.2s\n",
      "pkgs/r/noarch      \u001b[90m━━━━━━━━━━╸\u001b[0m\u001b[33m━━━━━━━━━━━━━━\u001b[0m  73.7kB /  ??.?MB @ 478.7kB/s  0.2s\u001b[2K\u001b[1A\u001b[2K\u001b[1A\u001b[2K\u001b[1A\u001b[2K\u001b[1A\u001b[2K\u001b[0G[+] 0.3s\n",
      "pkgs/main/linux-64 \u001b[90m━━━━━╸\u001b[0m\u001b[33m━━━━━━━━━━━━━━━╸\u001b[0m\u001b[90m━━━\u001b[0m 618.5kB /  ??.?MB @   2.4MB/s  0.3s\n",
      "pkgs/main/noarch   \u001b[90m━━━━╸\u001b[0m\u001b[33m━━━━━━━━━━━━━━━╸\u001b[0m\u001b[90m━━━━\u001b[0m 553.0kB /  ??.?MB @   2.2MB/s  0.3s\n",
      "pkgs/r/linux-64    \u001b[90m━━━━━━━━━━━━━╸\u001b[0m\u001b[33m━━━━━━━━━━━\u001b[0m 565.3kB /  ??.?MB @   2.2MB/s  0.3s\n",
      "pkgs/r/noarch      \u001b[90m━━━━━━━━━━━━╸\u001b[0m\u001b[33m━━━━━━━━━━━━\u001b[0m 593.9kB /  ??.?MB @   2.3MB/s  0.3s\u001b[2K\u001b[1A\u001b[2K\u001b[1A\u001b[2K\u001b[1A\u001b[2K\u001b[1A\u001b[2K\u001b[0Gpkgs/main/noarch                                   852.8kB @   2.7MB/s  0.3s\n",
      "[+] 0.4s\n",
      "pkgs/main/linux-64 \u001b[90m━━━━━━╸\u001b[0m\u001b[33m━━━━━━━━━━━━━━━╸\u001b[0m\u001b[90m━\u001b[0m   1.2MB @   3.4MB/s             0.4s\n",
      "pkgs/r/linux-64    \u001b[33m━━━━━━━╸\u001b[0m\u001b[90m━━━━━━━━━━━━━━━━\u001b[0m   1.1MB @   3.1MB/s             0.4s\n",
      "pkgs/r/noarch      ━━━━━━━━━━━━━━━━━━━━━━━━   1.3MB @   3.4MB/s Finalizing  0.4s\u001b[2K\u001b[1A\u001b[2K\u001b[1A\u001b[2K\u001b[1A\u001b[2K\u001b[0Gpkgs/r/noarch                                      @   3.4MB/s  0.4s\n",
      "pkgs/r/linux-64                                    @   3.4MB/s  0.4s\n",
      "[+] 0.5s\n",
      "pkgs/main/linux-64 \u001b[90m━━━━━━━━━╸\u001b[0m\u001b[33m━━━━━━━━━━━━━━━\u001b[0m   1.8MB /  ??.?MB @   3.9MB/s  0.5s\u001b[2K\u001b[1A\u001b[2K\u001b[0G[+] 0.6s\n",
      "pkgs/main/linux-64 \u001b[90m━━━━━━━━━━━━╸\u001b[0m\u001b[33m━━━━━━━━━━━━\u001b[0m   2.4MB /  ??.?MB @   4.3MB/s  0.6s\u001b[2K\u001b[1A\u001b[2K\u001b[0G[+] 0.7s\n",
      "pkgs/main/linux-64 \u001b[90m━━━━━━━━━━━━━━╸\u001b[0m\u001b[33m━━━━━━━━━━\u001b[0m   3.0MB /  ??.?MB @   4.5MB/s  0.7s\u001b[2K\u001b[1A\u001b[2K\u001b[0G[+] 0.8s\n",
      "pkgs/main/linux-64 \u001b[33m━━━━━━━━━╸\u001b[0m\u001b[90m━━━━━━━━━━━━━━━\u001b[0m   3.5MB /  ??.?MB @   4.6MB/s  0.8s\u001b[2K\u001b[1A\u001b[2K\u001b[0G[+] 0.9s\n",
      "pkgs/main/linux-64 \u001b[33m━━━━━━━━━━━╸\u001b[0m\u001b[90m━━━━━━━━━━━━━\u001b[0m   4.1MB /  ??.?MB @   4.7MB/s  0.9s\u001b[2K\u001b[1A\u001b[2K\u001b[0G[+] 1.0s\n",
      "pkgs/main/linux-64 \u001b[33m━━━━━━━━━━━━━╸\u001b[0m\u001b[90m━━━━━━━━━━━\u001b[0m   4.7MB /  ??.?MB @   4.8MB/s  1.0s\u001b[2K\u001b[1A\u001b[2K\u001b[0G[+] 1.1s\n",
      "pkgs/main/linux-64 \u001b[90m╸\u001b[0m\u001b[33m━━━━━━━━━━━━━━━╸\u001b[0m\u001b[90m━━━━━━━━\u001b[0m   5.3MB /  ??.?MB @   4.9MB/s  1.1s\u001b[2K\u001b[1A\u001b[2K\u001b[0G[+] 1.2s\n",
      "pkgs/main/linux-64 \u001b[90m━━╸\u001b[0m\u001b[33m━━━━━━━━━━━━━━━╸\u001b[0m\u001b[90m━━━━━━\u001b[0m   5.9MB /  ??.?MB @   5.0MB/s  1.2s\u001b[2K\u001b[1A\u001b[2K\u001b[0G[+] 1.3s\n",
      "pkgs/main/linux-64 ━━━━━━━━━━━━━━━━━━━━━━━━   6.1MB @   5.0MB/s Finalizing  1.3s\u001b[2K\u001b[1A\u001b[2K\u001b[0Gpkgs/main/linux-64                                 @   5.0MB/s  1.3s\n",
      "\u001b[?25h\n",
      "Pinned packages:\n",
      "  - python 3.7.*\n",
      "\n",
      "\n",
      "Transaction\n",
      "\n",
      "  Prefix: /home/jupyterlab/conda/envs/python\n",
      "\n",
      "  Updating specs:\n",
      "\n",
      "   - bs4==4.10.0\n",
      "   - ca-certificates\n",
      "   - certifi\n",
      "   - openssl\n",
      "\n",
      "\n",
      "  Package               Version  Build         Channel                 Size\n",
      "─────────────────────────────────────────────────────────────────────────────\n",
      "  Install:\n",
      "─────────────────────────────────────────────────────────────────────────────\n",
      "\n",
      "  \u001b[32m+ bs4            \u001b[0m      4.10.0  hd3eb1b0_0    pkgs/main/noarch        10kB\n",
      "\n",
      "  Upgrade:\n",
      "─────────────────────────────────────────────────────────────────────────────\n",
      "\n",
      "  \u001b[31m- ca-certificates\u001b[0m    2023.5.7  hbcca054_0    conda-forge                 \n",
      "  \u001b[32m+ ca-certificates\u001b[0m  2023.08.22  h06a4308_0    pkgs/main/linux-64     125kB\n",
      "  \u001b[31m- openssl        \u001b[0m      1.1.1t  h0b41bf4_0    conda-forge                 \n",
      "  \u001b[32m+ openssl        \u001b[0m      1.1.1w  h7f8727e_0    pkgs/main/linux-64       4MB\n",
      "\n",
      "  Downgrade:\n",
      "─────────────────────────────────────────────────────────────────────────────\n",
      "\n",
      "  \u001b[31m- beautifulsoup4 \u001b[0m      4.11.1  pyha770c72_0  conda-forge                 \n",
      "  \u001b[32m+ beautifulsoup4 \u001b[0m      4.10.0  pyh06a4308_0  pkgs/main/noarch        87kB\n",
      "\n",
      "  Summary:\n",
      "\n",
      "  Install: 1 packages\n",
      "  Upgrade: 2 packages\n",
      "  Downgrade: 1 packages\n",
      "\n",
      "  Total download: 4MB\n",
      "\n",
      "─────────────────────────────────────────────────────────────────────────────\n",
      "\n",
      "\n",
      "\u001b[?25l\u001b[2K\u001b[0G[+] 0.0s\n",
      "Downloading      \u001b[90m━━━━━━━━━━━━━━━━━━━━━━━\u001b[0m   0.0 B                            0.0s\n",
      "Extracting       \u001b[90m━━━━━━━━━━━━━━━━━━━━━━━\u001b[0m       0                            0.0s\u001b[2K\u001b[1A\u001b[2K\u001b[1A\u001b[2K\u001b[0G[+] 0.1s\n",
      "Downloading  (4) \u001b[33m━━━━━━━━━━━━━━━━━━━━━━━\u001b[0m   0.0 B beautifulsoup4             0.0s\n",
      "Extracting       \u001b[90m━━━━━━━━━━━━━━━━━━━━━━━\u001b[0m       0                            0.0s\u001b[2K\u001b[1A\u001b[2K\u001b[1A\u001b[2K\u001b[0Gca-certificates                                    125.5kB @ 881.8kB/s  0.1s\n",
      "beautifulsoup4                                      86.6kB @ 577.4kB/s  0.2s\n",
      "bs4                                                 10.2kB @  68.1kB/s  0.2s\n",
      "[+] 0.2s\n",
      "Downloading  (1) ━━━━╸\u001b[33m━━━━━━━━━━━━━━━━━━\u001b[0m 991.3kB openssl                    0.1s\n",
      "Extracting   (3) \u001b[90m━━━━━╸\u001b[0m\u001b[33m━━━━━━━━━━━━━━━╸\u001b[0m\u001b[90m━\u001b[0m       0 beautifulsoup4             0.0s\u001b[2K\u001b[1A\u001b[2K\u001b[1A\u001b[2K\u001b[0Gopenssl                                              3.9MB @  18.0MB/s  0.2s\n",
      "[+] 0.3s\n",
      "Downloading      ━━━━━━━━━━━━━━━━━━━━━━━   4.1MB                            0.2s\n",
      "Extracting   (4) \u001b[90m━━━━━━╸\u001b[0m\u001b[33m━━━━━━━━━━━━━━━━\u001b[0m       0 beautifulsoup4             0.1s\u001b[2K\u001b[1A\u001b[2K\u001b[1A\u001b[2K\u001b[0G[+] 0.4s\n",
      "Downloading      ━━━━━━━━━━━━━━━━━━━━━━━   4.1MB                            0.2s\n",
      "Extracting   (4) \u001b[90m━━━━━━━╸\u001b[0m\u001b[33m━━━━━━━━━━━━━━━\u001b[0m       0 beautifulsoup4             0.2s\u001b[2K\u001b[1A\u001b[2K\u001b[1A\u001b[2K\u001b[0G[+] 0.5s\n",
      "Downloading      ━━━━━━━━━━━━━━━━━━━━━━━   4.1MB                            0.2s\n",
      "Extracting   (4) \u001b[90m━━━━━━━━╸\u001b[0m\u001b[33m━━━━━━━━━━━━━━\u001b[0m       0 beautifulsoup4             0.3s\u001b[2K\u001b[1A\u001b[2K\u001b[1A\u001b[2K\u001b[0G[+] 0.6s\n",
      "Downloading      ━━━━━━━━━━━━━━━━━━━━━━━   4.1MB                            0.2s\n",
      "Extracting   (4) \u001b[90m━━━━━━━━━╸\u001b[0m\u001b[33m━━━━━━━━━━━━━\u001b[0m       0 bs4                        0.4s\u001b[2K\u001b[1A\u001b[2K\u001b[1A\u001b[2K\u001b[0G[+] 0.7s\n",
      "Downloading      ━━━━━━━━━━━━━━━━━━━━━━━   4.1MB                            0.2s\n",
      "Extracting   (4) \u001b[90m━━━━━━━━━━╸\u001b[0m\u001b[33m━━━━━━━━━━━━\u001b[0m       0 bs4                        0.5s\u001b[2K\u001b[1A\u001b[2K\u001b[1A\u001b[2K\u001b[0G[+] 0.8s\n",
      "Downloading      ━━━━━━━━━━━━━━━━━━━━━━━   4.1MB                            0.2s\n",
      "Extracting   (4) \u001b[90m━━━━━━━━━━━╸\u001b[0m\u001b[33m━━━━━━━━━━━\u001b[0m       0 bs4                        0.6s\u001b[2K\u001b[1A\u001b[2K\u001b[1A\u001b[2K\u001b[0G[+] 0.9s\n",
      "Downloading      ━━━━━━━━━━━━━━━━━━━━━━━   4.1MB                            0.2s\n",
      "Extracting   (4) \u001b[90m━━━━━━━━━━━━━╸\u001b[0m\u001b[33m━━━━━━━━━\u001b[0m       0 bs4                        0.7s\u001b[2K\u001b[1A\u001b[2K\u001b[1A\u001b[2K\u001b[0G[+] 1.0s\n",
      "Downloading      ━━━━━━━━━━━━━━━━━━━━━━━   4.1MB                            0.2s\n",
      "Extracting   (4) \u001b[33m━━━━━━━━╸\u001b[0m\u001b[90m━━━━━━━━━━━━━━\u001b[0m       0 ca-certificates            0.8s\u001b[2K\u001b[1A\u001b[2K\u001b[1A\u001b[2K\u001b[0G[+] 1.1s\n",
      "Downloading      ━━━━━━━━━━━━━━━━━━━━━━━   4.1MB                            0.2s\n",
      "Extracting   (4) \u001b[33m━━━━━━━━━╸\u001b[0m\u001b[90m━━━━━━━━━━━━━\u001b[0m       0 ca-certificates            0.9s\u001b[2K\u001b[1A\u001b[2K\u001b[1A\u001b[2K\u001b[0G[+] 1.2s\n",
      "Downloading      ━━━━━━━━━━━━━━━━━━━━━━━   4.1MB                            0.2s\n",
      "Extracting   (4) \u001b[33m━━━━━━━━━━╸\u001b[0m\u001b[90m━━━━━━━━━━━━\u001b[0m       0 ca-certificates            1.0s\u001b[2K\u001b[1A\u001b[2K\u001b[1A\u001b[2K\u001b[0G[+] 1.3s\n",
      "Downloading      ━━━━━━━━━━━━━━━━━━━━━━━   4.1MB                            0.2s\n",
      "Extracting   (4) \u001b[33m━━━━━━━━━━━╸\u001b[0m\u001b[90m━━━━━━━━━━━\u001b[0m       0 ca-certificates            1.1s\u001b[2K\u001b[1A\u001b[2K\u001b[1A\u001b[2K\u001b[0G[+] 1.4s\n",
      "Downloading      ━━━━━━━━━━━━━━━━━━━━━━━   4.1MB                            0.2s\n",
      "Extracting   (4) \u001b[33m━━━━━━━━━━━━╸\u001b[0m\u001b[90m━━━━━━━━━━\u001b[0m       0 openssl                    1.2s\u001b[2K\u001b[1A\u001b[2K\u001b[1A\u001b[2K\u001b[0G[+] 1.5s\n",
      "Downloading      ━━━━━━━━━━━━━━━━━━━━━━━   4.1MB                            0.2s\n",
      "Extracting   (4) \u001b[33m━━━━━━━━━━━━━╸\u001b[0m\u001b[90m━━━━━━━━━\u001b[0m       0 openssl                    1.3s\u001b[2K\u001b[1A\u001b[2K\u001b[1A\u001b[2K\u001b[0G[+] 1.6s\n",
      "Downloading      ━━━━━━━━━━━━━━━━━━━━━━━   4.1MB                            0.2s\n",
      "Extracting   (4) \u001b[33m━━━━━━━━━━━━━━╸\u001b[0m\u001b[90m━━━━━━━━\u001b[0m       0 openssl                    1.4s\u001b[2K\u001b[1A\u001b[2K\u001b[1A\u001b[2K\u001b[0G[+] 1.7s\n",
      "Downloading      ━━━━━━━━━━━━━━━━━━━━━━━   4.1MB                            0.2s\n",
      "Extracting   (4) \u001b[33m━━━━━━━━━━━━━━━╸\u001b[0m\u001b[90m━━━━━━━\u001b[0m       0 openssl                    1.5s\u001b[2K\u001b[1A\u001b[2K\u001b[1A\u001b[2K\u001b[0G[+] 1.8s\n",
      "Downloading      ━━━━━━━━━━━━━━━━━━━━━━━   4.1MB                            0.2s\n",
      "Extracting   (4) \u001b[90m╸\u001b[0m\u001b[33m━━━━━━━━━━━━━━━╸\u001b[0m\u001b[90m━━━━━━\u001b[0m       0 beautifulsoup4             1.6s\u001b[2K\u001b[1A\u001b[2K\u001b[1A\u001b[2K\u001b[0G[+] 1.9s\n",
      "Downloading      ━━━━━━━━━━━━━━━━━━━━━━━   4.1MB                            0.2s\n",
      "Extracting   (3) ━━━━╸\u001b[33m━━━━━━━━━━━━━━━━━━\u001b[0m       1 beautifulsoup4             1.7s\u001b[2K\u001b[1A\u001b[2K\u001b[1A\u001b[2K\u001b[0G[+] 2.0s\n",
      "Downloading      ━━━━━━━━━━━━━━━━━━━━━━━   4.1MB                            0.2s\n",
      "Extracting   (2) ━━━━━━━━━━╸\u001b[33m━━━━━━━━━━━━\u001b[0m       2 beautifulsoup4             1.8s\u001b[2K\u001b[1A\u001b[2K\u001b[1A\u001b[2K\u001b[0G[+] 2.1s\n",
      "Downloading      ━━━━━━━━━━━━━━━━━━━━━━━   4.1MB                            0.2s\n",
      "Extracting   (2) ━━━━━━━━━━╸\u001b[33m━━━━━━━━━━━━\u001b[0m       2 beautifulsoup4             1.9s\u001b[2K\u001b[1A\u001b[2K\u001b[1A\u001b[2K\u001b[0G[+] 2.2s\n",
      "Downloading      ━━━━━━━━━━━━━━━━━━━━━━━   4.1MB                            0.2s\n",
      "Extracting   (1) ━━━━━━━━━━━━━━━━╸\u001b[33m━━━━━━\u001b[0m       3 openssl                    2.0s\u001b[2K\u001b[1A\u001b[2K\u001b[1A\u001b[2K\u001b[0G[+] 2.3s\n",
      "Downloading      ━━━━━━━━━━━━━━━━━━━━━━━   4.1MB                            0.2s\n",
      "Extracting   (1) ━━━━━━━━━━━━━━━━╸\u001b[33m━━━━━━\u001b[0m       3 openssl                    2.1s\u001b[2K\u001b[1A\u001b[2K\u001b[1A\u001b[2K\u001b[0G\u001b[?25h\n",
      "Downloading and Extracting Packages\n",
      "\n",
      "Preparing transaction: done\n",
      "Verifying transaction: done\n",
      "Executing transaction: done\n",
      "\n",
      "                  __    __    __    __\n",
      "                 /  \\  /  \\  /  \\  /  \\\n",
      "                /    \\/    \\/    \\/    \\\n",
      "███████████████/  /██/  /██/  /██/  /████████████████████████\n",
      "              /  / \\   / \\   / \\   / \\  \\____\n",
      "             /  /   \\_/   \\_/   \\_/   \\    o \\__,\n",
      "            / _/                       \\_____/  `\n",
      "            |/\n",
      "        ███╗   ███╗ █████╗ ███╗   ███╗██████╗  █████╗\n",
      "        ████╗ ████║██╔══██╗████╗ ████║██╔══██╗██╔══██╗\n",
      "        ██╔████╔██║███████║██╔████╔██║██████╔╝███████║\n",
      "        ██║╚██╔╝██║██╔══██║██║╚██╔╝██║██╔══██╗██╔══██║\n",
      "        ██║ ╚═╝ ██║██║  ██║██║ ╚═╝ ██║██████╔╝██║  ██║\n",
      "        ╚═╝     ╚═╝╚═╝  ╚═╝╚═╝     ╚═╝╚═════╝ ╚═╝  ╚═╝\n",
      "\n",
      "        mamba (1.4.2) supported by @QuantStack\n",
      "\n",
      "        GitHub:  https://github.com/mamba-org/mamba\n",
      "        Twitter: https://twitter.com/QuantStack\n",
      "\n",
      "█████████████████████████████████████████████████████████████\n",
      "\n",
      "\n",
      "Looking for: ['html5lib==1.1']\n",
      "\n",
      "pkgs/main/linux-64                                          Using cache\n",
      "pkgs/main/noarch                                            Using cache\n",
      "pkgs/r/linux-64                                             Using cache\n",
      "pkgs/r/noarch                                               Using cache\n",
      "\n",
      "Pinned packages:\n",
      "  - python 3.7.*\n",
      "\n",
      "\n",
      "Transaction\n",
      "\n",
      "  Prefix: /home/jupyterlab/conda/envs/python\n",
      "\n",
      "  Updating specs:\n",
      "\n",
      "   - html5lib==1.1\n",
      "   - ca-certificates\n",
      "   - certifi\n",
      "   - openssl\n",
      "\n",
      "\n",
      "  Package         Version  Build         Channel                Size\n",
      "──────────────────────────────────────────────────────────────────────\n",
      "  Install:\n",
      "──────────────────────────────────────────────────────────────────────\n",
      "\n",
      "  \u001b[32m+ html5lib    \u001b[0m      1.1  pyhd3eb1b0_0  pkgs/main/noarch       93kB\n",
      "  \u001b[32m+ webencodings\u001b[0m    0.5.1  py37_1        pkgs/main/linux-64     20kB\n",
      "\n",
      "  Summary:\n",
      "\n",
      "  Install: 2 packages\n",
      "\n",
      "  Total download: 113kB\n",
      "\n",
      "──────────────────────────────────────────────────────────────────────\n",
      "\n",
      "\n",
      "\u001b[?25l\u001b[2K\u001b[0G[+] 0.0s\n",
      "Downloading      \u001b[90m━━━━━━━━━━━━━━━━━━━━━━━\u001b[0m   0.0 B                            0.0s\n",
      "Extracting       \u001b[90m━━━━━━━━━━━━━━━━━━━━━━━\u001b[0m       0                            0.0s\u001b[2K\u001b[1A\u001b[2K\u001b[1A\u001b[2K\u001b[0G[+] 0.1s\n",
      "Downloading  (2) \u001b[33m━━━━━━━━━━━━━━━━━━━━━━━\u001b[0m   0.0 B html5lib                   0.0s\n",
      "Extracting       \u001b[90m━━━━━━━━━━━━━━━━━━━━━━━\u001b[0m       0                            0.0s\u001b[2K\u001b[1A\u001b[2K\u001b[1A\u001b[2K\u001b[0Ghtml5lib                                            93.0kB @ 669.3kB/s  0.1s\n",
      "webencodings                                        19.6kB @ 130.7kB/s  0.2s\n",
      "[+] 0.2s\n",
      "Downloading      ━━━━━━━━━━━━━━━━━━━━━━━ 112.6kB                            0.1s\n",
      "Extracting   (2) \u001b[33m━━━━━━━╸\u001b[0m\u001b[90m━━━━━━━━━━━━━━━\u001b[0m       0 html5lib                   0.0s\u001b[2K\u001b[1A\u001b[2K\u001b[1A\u001b[2K\u001b[0G[+] 0.3s\n",
      "Downloading      ━━━━━━━━━━━━━━━━━━━━━━━ 112.6kB                            0.1s\n",
      "Extracting   (2) \u001b[33m━━━━━━━━━╸\u001b[0m\u001b[90m━━━━━━━━━━━━━\u001b[0m       0 html5lib                   0.1s\u001b[2K\u001b[1A\u001b[2K\u001b[1A\u001b[2K\u001b[0G[+] 0.4s\n",
      "Downloading      ━━━━━━━━━━━━━━━━━━━━━━━ 112.6kB                            0.1s\n",
      "Extracting   (2) \u001b[33m━━━━━━━━━━╸\u001b[0m\u001b[90m━━━━━━━━━━━━\u001b[0m       0 html5lib                   0.2s\u001b[2K\u001b[1A\u001b[2K\u001b[1A\u001b[2K\u001b[0G[+] 0.5s\n",
      "Downloading      ━━━━━━━━━━━━━━━━━━━━━━━ 112.6kB                            0.1s\n",
      "Extracting   (2) \u001b[33m━━━━━━━━━━━╸\u001b[0m\u001b[90m━━━━━━━━━━━\u001b[0m       0 html5lib                   0.3s\u001b[2K\u001b[1A\u001b[2K\u001b[1A\u001b[2K\u001b[0G[+] 0.6s\n",
      "Downloading      ━━━━━━━━━━━━━━━━━━━━━━━ 112.6kB                            0.1s\n",
      "Extracting   (2) \u001b[33m━━━━━━━━━━━━╸\u001b[0m\u001b[90m━━━━━━━━━━\u001b[0m       0 webencodings               0.4s\u001b[2K\u001b[1A\u001b[2K\u001b[1A\u001b[2K\u001b[0G[+] 0.7s\n",
      "Downloading      ━━━━━━━━━━━━━━━━━━━━━━━ 112.6kB                            0.1s\n",
      "Extracting   (2) \u001b[33m━━━━━━━━━━━━━╸\u001b[0m\u001b[90m━━━━━━━━━\u001b[0m       0 webencodings               0.5s\u001b[2K\u001b[1A\u001b[2K\u001b[1A\u001b[2K\u001b[0G[+] 0.8s\n",
      "Downloading      ━━━━━━━━━━━━━━━━━━━━━━━ 112.6kB                            0.1s\n",
      "Extracting   (2) \u001b[33m━━━━━━━━━━━━━━╸\u001b[0m\u001b[90m━━━━━━━━\u001b[0m       0 webencodings               0.6s\u001b[2K\u001b[1A\u001b[2K\u001b[1A\u001b[2K\u001b[0G[+] 0.9s\n",
      "Downloading      ━━━━━━━━━━━━━━━━━━━━━━━ 112.6kB                            0.1s\n",
      "Extracting   (2) \u001b[33m━━━━━━━━━━━━━━━╸\u001b[0m\u001b[90m━━━━━━━\u001b[0m       0 webencodings               0.7s\u001b[2K\u001b[1A\u001b[2K\u001b[1A\u001b[2K\u001b[0G[+] 1.0s\n",
      "Downloading      ━━━━━━━━━━━━━━━━━━━━━━━ 112.6kB                            0.1s\n",
      "Extracting       ━━━━━━━━━━━━━━━━━━━━━━━       2                            0.8s\u001b[2K\u001b[1A\u001b[2K\u001b[1A\u001b[2K\u001b[0G\u001b[?25h\n",
      "Downloading and Extracting Packages\n",
      "\n",
      "Preparing transaction: done\n",
      "Verifying transaction: done\n",
      "Executing transaction: done\n",
      "Collecting lxml==4.6.4\n",
      "  Downloading lxml-4.6.4-cp37-cp37m-manylinux_2_17_x86_64.manylinux2014_x86_64.manylinux_2_24_x86_64.whl (6.3 MB)\n",
      "\u001b[2K     \u001b[90m━━━━━━━━━━━━━━━━━━━━━━━━━━━━━━━━━━━━━━━━\u001b[0m \u001b[32m6.3/6.3 MB\u001b[0m \u001b[31m64.8 MB/s\u001b[0m eta \u001b[36m0:00:00\u001b[0m:00:01\u001b[0m0:01\u001b[0m\n",
      "\u001b[?25hInstalling collected packages: lxml\n",
      "  Attempting uninstall: lxml\n",
      "    Found existing installation: lxml 4.9.2\n",
      "    Uninstalling lxml-4.9.2:\n",
      "      Successfully uninstalled lxml-4.9.2\n",
      "Successfully installed lxml-4.6.4\n"
     ]
    }
   ],
   "source": [
    "#!pip install pandas==1.3.3\n",
    "#!pip install requests==2.26.0\n",
    "!mamba install bs4==4.10.0 -y\n",
    "!mamba install html5lib==1.1 -y \n",
    "!pip install lxml==4.6.4\n",
    "#!pip install plotly==5.3.1"
   ]
  },
  {
   "cell_type": "code",
   "execution_count": 2,
   "metadata": {
    "tags": []
   },
   "outputs": [],
   "source": [
    "import pandas as pd\n",
    "import requests\n",
    "from bs4 import BeautifulSoup"
   ]
  },
  {
   "cell_type": "markdown",
   "metadata": {},
   "source": [
    "## Using Webscraping to Extract Stock Data Example\n"
   ]
  },
  {
   "cell_type": "markdown",
   "metadata": {},
   "source": [
    "We will extract Netflix stock data [https://cf-courses-data.s3.us.cloud-object-storage.appdomain.cloud/IBMDeveloperSkillsNetwork-PY0220EN-SkillsNetwork/labs/project/netflix_data_webpage.html](https://cf-courses-data.s3.us.cloud-object-storage.appdomain.cloud/IBMDeveloperSkillsNetwork-PY0220EN-SkillsNetwork/labs/project/netflix_data_webpage.html).\n"
   ]
  },
  {
   "cell_type": "markdown",
   "metadata": {},
   "source": [
    "<center> \n",
    "    \n",
    "#### In this example, we are using yahoo finance website and looking to extract Netflix data.\n",
    "\n",
    "</center>\n",
    "    <br>\n",
    "\n",
    "  <img src=\"https://cf-courses-data.s3.us.cloud-object-storage.appdomain.cloud/IBMDeveloperSkillsNetwork-PY0220EN-SkillsNetwork/labs/project/Images/netflix.png\"> </center> \n",
    "  \n",
    "<center> Fig:- Table that we need to extract </center>\n"
   ]
  },
  {
   "cell_type": "markdown",
   "metadata": {},
   "source": [
    "On the following webpage we have a table with columns name (Date, Open, High, Low, close, adj close volume) out of which we must extract following columns  \n",
    "\n",
    "* Date \n",
    "\n",
    "* Open  \n",
    "\n",
    "* High \n",
    "\n",
    "* Low \n",
    "\n",
    "* Close \n",
    "\n",
    "* Volume \n",
    "\n"
   ]
  },
  {
   "cell_type": "markdown",
   "metadata": {},
   "source": [
    "# Steps to be followed for extracting data\n",
    "1. Send an HTTP request to the webpage using the requests library.\n",
    "2. Parse the HTML content of the webpage using BeautifulSoup.\n",
    "3. Identify the HTML tags that contain the data you want to extract.\n",
    "4. Use BeautifulSoup methods to extract the data from the HTML tags.\n",
    "5. Print the extracted data\n"
   ]
  },
  {
   "cell_type": "markdown",
   "metadata": {},
   "source": [
    "### Step-1 Send an HTTP Request to the webpage\n"
   ]
  },
  {
   "cell_type": "markdown",
   "metadata": {},
   "source": [
    "We are using Request library for sending an HTTP request to the webpage.<br>\n"
   ]
  },
  {
   "cell_type": "code",
   "execution_count": null,
   "metadata": {},
   "outputs": [],
   "source": [
    "url = \"https://cf-courses-data.s3.us.cloud-object-storage.appdomain.cloud/IBMDeveloperSkillsNetwork-PY0220EN-SkillsNetwork/labs/project/netflix_data_webpage.html\""
   ]
  },
  {
   "cell_type": "markdown",
   "metadata": {},
   "source": [
    "The requests.get() method takes a URL as its first argument, which specifies the location of the resource to be retrieved. In this case, the value of the url variable is passed as the argument to the requests.get() method, as we've stored a webpage URL in a url variable.\n",
    "\n",
    "we have used .text method for extracting the HTML content as a string in order to make it readable.\n"
   ]
  },
  {
   "cell_type": "code",
   "execution_count": null,
   "metadata": {},
   "outputs": [],
   "source": [
    "data  = requests.get(url).text\n",
    "print(data)"
   ]
  },
  {
   "cell_type": "markdown",
   "metadata": {},
   "source": [
    "### Step:-2 Parse the HTML content\n"
   ]
  },
  {
   "cell_type": "markdown",
   "metadata": {},
   "source": [
    "<hr>\n",
    "<hr>\n",
    "<center>\n",
    "\n",
    "# What is parsing?\n",
    "In simple words, parsing refers to the process of analyzing a string of text or a data structure, usually following a set of rules or grammar, to understand its structure and meaning.\n",
    "Parsing involves breaking down a piece of text or data into its individual components or elements, and then analyzing those components to extract the desired information or to understand their relationships and meanings.</center>\n",
    "<hr>\n",
    "<hr>\n"
   ]
  },
  {
   "cell_type": "markdown",
   "metadata": {},
   "source": [
    "Next we will take the raw HTML content of a webpage or a string of HTML code which needs to be parsed and transformed into a structured, hierarchical format that can be more easily analyzed and manipulated in Python. This can be done using a Python library called <b>Beautiful Soup</b>.\n"
   ]
  },
  {
   "cell_type": "markdown",
   "metadata": {},
   "source": [
    "## How to parse the data using Beautiful soup library?\n",
    "* Create a new Beautiful soup object.\n",
    "<br>\n",
    "<br>\n",
    "<b>Note:- </b>To create a Beautiful Soup object in Python, you need to pass two arguments to its constructor:\n",
    "\n",
    "1. The HTML or XML content that you want to parse as a string.\n",
    "2. The name of the parser that you want to use to parse the HTML or XML content. This argument is optional, and if you don't specify a parser, Beautiful Soup will use the default HTML parser included with the library.\n",
    "here in this lab we are using \"html5lib\" parser.\n"
   ]
  },
  {
   "cell_type": "code",
   "execution_count": null,
   "metadata": {},
   "outputs": [],
   "source": [
    "soup = BeautifulSoup(data, 'html5lib')"
   ]
  },
  {
   "cell_type": "markdown",
   "metadata": {},
   "source": [
    "### Step-3 Identify the HTML tags\n"
   ]
  },
  {
   "cell_type": "markdown",
   "metadata": {},
   "source": [
    "As stated above webpage consist of table so, we will be scrapping the content of the HTML webpage and convert the table into a dataframe.\n"
   ]
  },
  {
   "cell_type": "markdown",
   "metadata": {},
   "source": [
    "We will creates an empty DataFrame using the <b> pd.DataFrame() </b> function with the following columns.\n",
    "* \"Date\"\n",
    "* \"Open\"\n",
    "* \"High\" \n",
    "* \"Low\" \n",
    "* \"Close\"\n",
    "* \"Volume\"\n"
   ]
  },
  {
   "cell_type": "code",
   "execution_count": null,
   "metadata": {},
   "outputs": [],
   "source": [
    "netflix_data = pd.DataFrame(columns=[\"Date\", \"Open\", \"High\", \"Low\", \"Close\", \"Volume\"])"
   ]
  },
  {
   "cell_type": "markdown",
   "metadata": {},
   "source": [
    "<hr>\n",
    "<hr>\n",
    "<center>\n",
    "\n",
    "### Working on HTML table  </center>\n",
    "<br>\n",
    "\n",
    "These are the following tags which are used while creating HTML tables.\n",
    "\n",
    "* &lt;table&gt; tag: This tag is root tag used to define the start and end of the table. All the content of the table is enclosed within these tags. \n",
    "\n",
    "\n",
    "* &lt;tr&gt; tag: This tag is used to define a table row. Each row of the table is defined within this tag.\n",
    "\n",
    "* &lt;td&gt; tag: This tag is used to define a table cell. Each cell of the table is defined within this tag. You can specify the content of the cell between the opening and closing <td> tags.\n",
    "\n",
    "* &lt;th&gt; tag: This tag is used to define a header cell in the table. The header cell is used to describe the contents of a column or row. By default, the text inside a <th> tag is bold and centered.\n",
    "\n",
    "* &lt;tbody&gt; tag: This is the main content of the table, which is defined using the <tbody> tag. It contains one or more rows of <tr> elements.\n",
    "\n",
    "<hr>\n",
    "<hr>\n",
    "\n"
   ]
  },
  {
   "cell_type": "markdown",
   "metadata": {},
   "source": [
    "### Step-4 Use Beautiful soup method for extracting data\n"
   ]
  },
  {
   "cell_type": "markdown",
   "metadata": {},
   "source": [
    "\n",
    "We will use <b>find()</b> and <b>find_all()</b> methods of the BeautifulSoup object to locate the table body and table row respectively in the HTML. \n",
    "   * The <i>find() method </i> will return particular tag content.\n",
    "   * The <i>find_all()</i> method returns a list of all matching tags in the HTML.\n"
   ]
  },
  {
   "cell_type": "code",
   "execution_count": null,
   "metadata": {},
   "outputs": [],
   "source": [
    "# First we isolate the body of the table which contains all the information\n",
    "# Then we loop through each row and find all the column values for each row\n",
    "for row in soup.find(\"tbody\").find_all('tr'):\n",
    "    col = row.find_all(\"td\")\n",
    "    date = col[0].text\n",
    "    Open = col[1].text\n",
    "    high = col[2].text\n",
    "    low = col[3].text\n",
    "    close = col[4].text\n",
    "    adj_close = col[5].text\n",
    "    volume = col[6].text\n",
    "    \n",
    "    # Finally we append the data of each row to the table\n",
    "    netflix_data = netflix_data.append({\"Date\":date, \"Open\":Open, \"High\":high, \"Low\":low, \"Close\":close, \"Adj Close\":adj_close, \"Volume\":volume}, ignore_index=True)    "
   ]
  },
  {
   "cell_type": "markdown",
   "metadata": {},
   "source": [
    "### Step-5 Print the Extracted Data\n"
   ]
  },
  {
   "cell_type": "markdown",
   "metadata": {},
   "source": [
    "We can now print out the DataFrame using head() or tail() function\n"
   ]
  },
  {
   "cell_type": "code",
   "execution_count": null,
   "metadata": {},
   "outputs": [],
   "source": [
    "netflix_data.head()"
   ]
  },
  {
   "cell_type": "markdown",
   "metadata": {},
   "source": [
    "# Extracting data using `pandas` library\n"
   ]
  },
  {
   "cell_type": "markdown",
   "metadata": {},
   "source": [
    "We can also use the pandas `read_html` function from pandas library and use the URL for extracting data.\n"
   ]
  },
  {
   "cell_type": "markdown",
   "metadata": {},
   "source": [
    "<center>\n",
    "\n",
    "## What is read_html in pandas library?\n",
    "`pd.read_html(url)` is a function provided by the pandas library in Python that is used to extract tables from HTML web pages. It takes in a URL as input and returns a list of all the tables found on the webpage. \n",
    "</center>\n"
   ]
  },
  {
   "cell_type": "code",
   "execution_count": null,
   "metadata": {},
   "outputs": [],
   "source": [
    "read_html_pandas_data = pd.read_html(url)"
   ]
  },
  {
   "cell_type": "markdown",
   "metadata": {},
   "source": [
    "Or we can convert the BeautifulSoup object to a string\n"
   ]
  },
  {
   "cell_type": "code",
   "execution_count": null,
   "metadata": {},
   "outputs": [],
   "source": [
    "read_html_pandas_data = pd.read_html(str(soup))"
   ]
  },
  {
   "cell_type": "markdown",
   "metadata": {},
   "source": [
    "Because there is only one table on the page, we just take the first table in the list returned\n"
   ]
  },
  {
   "cell_type": "code",
   "execution_count": null,
   "metadata": {},
   "outputs": [],
   "source": [
    "netflix_dataframe = read_html_pandas_data[0]\n",
    "\n",
    "netflix_dataframe.head()"
   ]
  },
  {
   "cell_type": "markdown",
   "metadata": {},
   "source": [
    "## Using Webscraping to Extract Stock Data Exercise\n"
   ]
  },
  {
   "cell_type": "markdown",
   "metadata": {},
   "source": [
    "Use the `requests` library to download the webpage [https://cf-courses-data.s3.us.cloud-object-storage.appdomain.cloud/IBMDeveloperSkillsNetwork-PY0220EN-SkillsNetwork/labs/project/amazon_data_webpage.html](https://cf-courses-data.s3.us.cloud-object-storage.appdomain.cloud/IBMDeveloperSkillsNetwork-PY0220EN-SkillsNetwork/labs/project/amazon_data_webpage.html). Save the text of the response as a variable named `html_data`.\n"
   ]
  },
  {
   "cell_type": "code",
   "execution_count": 3,
   "metadata": {
    "tags": []
   },
   "outputs": [],
   "source": [
    "url = 'https://cf-courses-data.s3.us.cloud-object-storage.appdomain.cloud/IBMDeveloperSkillsNetwork-PY0220EN-SkillsNetwork/labs/project/amazon_data_webpage.html' \n",
    "html_data = requests.get(url).text"
   ]
  },
  {
   "cell_type": "markdown",
   "metadata": {},
   "source": [
    "Parse the html data using `beautiful_soup`.\n"
   ]
  },
  {
   "cell_type": "code",
   "execution_count": 4,
   "metadata": {
    "tags": []
   },
   "outputs": [],
   "source": [
    "soup = BeautifulSoup(html_data, 'html5lib')\n"
   ]
  },
  {
   "cell_type": "markdown",
   "metadata": {},
   "source": [
    "<b>Question 1</b> What is the content of the title attribute?\n"
   ]
  },
  {
   "cell_type": "code",
   "execution_count": 6,
   "metadata": {
    "tags": []
   },
   "outputs": [
    {
     "data": {
      "text/plain": [
       "<title>Amazon.com, Inc. (AMZN) Stock Historical Prices &amp; Data - Yahoo Finance</title>"
      ]
     },
     "execution_count": 6,
     "metadata": {},
     "output_type": "execute_result"
    }
   ],
   "source": [
    "title = soup.title\n",
    "title\n"
   ]
  },
  {
   "cell_type": "code",
   "execution_count": 20,
   "metadata": {
    "tags": []
   },
   "outputs": [
    {
     "data": {
      "text/plain": [
       "<table class=\"W(100%) M(0)\" data-reactid=\"33\" data-test=\"historical-prices\"><thead data-reactid=\"34\"><tr class=\"C($tertiaryColor) Fz(xs) Ta(end)\" data-reactid=\"35\"><th class=\"Ta(start) W(100px) Fw(400) Py(6px)\" data-reactid=\"36\"><span data-reactid=\"37\">Date</span></th><th class=\"Fw(400) Py(6px)\" data-reactid=\"38\"><span data-reactid=\"39\">Open</span></th><th class=\"Fw(400) Py(6px)\" data-reactid=\"40\"><span data-reactid=\"41\">High</span></th><th class=\"Fw(400) Py(6px)\" data-reactid=\"42\"><span data-reactid=\"43\">Low</span></th><th class=\"Fw(400) Py(6px)\" data-reactid=\"44\"><span data-reactid=\"45\">Close*</span></th><th class=\"Fw(400) Py(6px)\" data-reactid=\"46\"><span data-reactid=\"47\">Adj Close**</span></th><th class=\"Fw(400) Py(6px)\" data-reactid=\"48\"><span data-reactid=\"49\">Volume</span></th></tr></thead><tbody data-reactid=\"50\"><tr class=\"BdT Bdc($seperatorColor) Ta(end) Fz(s) Whs(nw)\" data-reactid=\"51\"><td class=\"Py(10px) Ta(start) Pend(10px)\" data-reactid=\"52\"><span data-reactid=\"53\">Jan 01, 2021</span></td><td class=\"Py(10px) Pstart(10px)\" data-reactid=\"54\"><span data-reactid=\"55\">3,270.00</span></td><td class=\"Py(10px) Pstart(10px)\" data-reactid=\"56\"><span data-reactid=\"57\">3,363.89</span></td><td class=\"Py(10px) Pstart(10px)\" data-reactid=\"58\"><span data-reactid=\"59\">3,086.00</span></td><td class=\"Py(10px) Pstart(10px)\" data-reactid=\"60\"><span data-reactid=\"61\">3,206.20</span></td><td class=\"Py(10px) Pstart(10px)\" data-reactid=\"62\"><span data-reactid=\"63\">3,206.20</span></td><td class=\"Py(10px) Pstart(10px)\" data-reactid=\"64\"><span data-reactid=\"65\">71,528,900</span></td></tr><tr class=\"BdT Bdc($seperatorColor) Ta(end) Fz(s) Whs(nw)\" data-reactid=\"66\"><td class=\"Py(10px) Ta(start) Pend(10px)\" data-reactid=\"67\"><span data-reactid=\"68\">Dec 01, 2020</span></td><td class=\"Py(10px) Pstart(10px)\" data-reactid=\"69\"><span data-reactid=\"70\">3,188.50</span></td><td class=\"Py(10px) Pstart(10px)\" data-reactid=\"71\"><span data-reactid=\"72\">3,350.65</span></td><td class=\"Py(10px) Pstart(10px)\" data-reactid=\"73\"><span data-reactid=\"74\">3,072.82</span></td><td class=\"Py(10px) Pstart(10px)\" data-reactid=\"75\"><span data-reactid=\"76\">3,256.93</span></td><td class=\"Py(10px) Pstart(10px)\" data-reactid=\"77\"><span data-reactid=\"78\">3,256.93</span></td><td class=\"Py(10px) Pstart(10px)\" data-reactid=\"79\"><span data-reactid=\"80\">77,556,200</span></td></tr><tr class=\"BdT Bdc($seperatorColor) Ta(end) Fz(s) Whs(nw)\" data-reactid=\"81\"><td class=\"Py(10px) Ta(start) Pend(10px)\" data-reactid=\"82\"><span data-reactid=\"83\">Nov 01, 2020</span></td><td class=\"Py(10px) Pstart(10px)\" data-reactid=\"84\"><span data-reactid=\"85\">3,061.74</span></td><td class=\"Py(10px) Pstart(10px)\" data-reactid=\"86\"><span data-reactid=\"87\">3,366.80</span></td><td class=\"Py(10px) Pstart(10px)\" data-reactid=\"88\"><span data-reactid=\"89\">2,950.12</span></td><td class=\"Py(10px) Pstart(10px)\" data-reactid=\"90\"><span data-reactid=\"91\">3,168.04</span></td><td class=\"Py(10px) Pstart(10px)\" data-reactid=\"92\"><span data-reactid=\"93\">3,168.04</span></td><td class=\"Py(10px) Pstart(10px)\" data-reactid=\"94\"><span data-reactid=\"95\">90,810,500</span></td></tr><tr class=\"BdT Bdc($seperatorColor) Ta(end) Fz(s) Whs(nw)\" data-reactid=\"96\"><td class=\"Py(10px) Ta(start) Pend(10px)\" data-reactid=\"97\"><span data-reactid=\"98\">Oct 01, 2020</span></td><td class=\"Py(10px) Pstart(10px)\" data-reactid=\"99\"><span data-reactid=\"100\">3,208.00</span></td><td class=\"Py(10px) Pstart(10px)\" data-reactid=\"101\"><span data-reactid=\"102\">3,496.24</span></td><td class=\"Py(10px) Pstart(10px)\" data-reactid=\"103\"><span data-reactid=\"104\">3,019.00</span></td><td class=\"Py(10px) Pstart(10px)\" data-reactid=\"105\"><span data-reactid=\"106\">3,036.15</span></td><td class=\"Py(10px) Pstart(10px)\" data-reactid=\"107\"><span data-reactid=\"108\">3,036.15</span></td><td class=\"Py(10px) Pstart(10px)\" data-reactid=\"109\"><span data-reactid=\"110\">116,226,100</span></td></tr><tr class=\"BdT Bdc($seperatorColor) Ta(end) Fz(s) Whs(nw)\" data-reactid=\"111\"><td class=\"Py(10px) Ta(start) Pend(10px)\" data-reactid=\"112\"><span data-reactid=\"113\">Sep 01, 2020</span></td><td class=\"Py(10px) Pstart(10px)\" data-reactid=\"114\"><span data-reactid=\"115\">3,489.58</span></td><td class=\"Py(10px) Pstart(10px)\" data-reactid=\"116\"><span data-reactid=\"117\">3,552.25</span></td><td class=\"Py(10px) Pstart(10px)\" data-reactid=\"118\"><span data-reactid=\"119\">2,871.00</span></td><td class=\"Py(10px) Pstart(10px)\" data-reactid=\"120\"><span data-reactid=\"121\">3,148.73</span></td><td class=\"Py(10px) Pstart(10px)\" data-reactid=\"122\"><span data-reactid=\"123\">3,148.73</span></td><td class=\"Py(10px) Pstart(10px)\" data-reactid=\"124\"><span data-reactid=\"125\">115,899,300</span></td></tr><tr class=\"BdT Bdc($seperatorColor) Ta(end) Fz(s) Whs(nw)\" data-reactid=\"126\"><td class=\"Py(10px) Ta(start) Pend(10px)\" data-reactid=\"127\"><span data-reactid=\"128\">Aug 01, 2020</span></td><td class=\"Py(10px) Pstart(10px)\" data-reactid=\"129\"><span data-reactid=\"130\">3,180.51</span></td><td class=\"Py(10px) Pstart(10px)\" data-reactid=\"131\"><span data-reactid=\"132\">3,495.00</span></td><td class=\"Py(10px) Pstart(10px)\" data-reactid=\"133\"><span data-reactid=\"134\">3,073.00</span></td><td class=\"Py(10px) Pstart(10px)\" data-reactid=\"135\"><span data-reactid=\"136\">3,450.96</span></td><td class=\"Py(10px) Pstart(10px)\" data-reactid=\"137\"><span data-reactid=\"138\">3,450.96</span></td><td class=\"Py(10px) Pstart(10px)\" data-reactid=\"139\"><span data-reactid=\"140\">83,516,600</span></td></tr><tr class=\"BdT Bdc($seperatorColor) Ta(end) Fz(s) Whs(nw)\" data-reactid=\"141\"><td class=\"Py(10px) Ta(start) Pend(10px)\" data-reactid=\"142\"><span data-reactid=\"143\">Jul 01, 2020</span></td><td class=\"Py(10px) Pstart(10px)\" data-reactid=\"144\"><span data-reactid=\"145\">2,757.99</span></td><td class=\"Py(10px) Pstart(10px)\" data-reactid=\"146\"><span data-reactid=\"147\">3,344.29</span></td><td class=\"Py(10px) Pstart(10px)\" data-reactid=\"148\"><span data-reactid=\"149\">2,754.00</span></td><td class=\"Py(10px) Pstart(10px)\" data-reactid=\"150\"><span data-reactid=\"151\">3,164.68</span></td><td class=\"Py(10px) Pstart(10px)\" data-reactid=\"152\"><span data-reactid=\"153\">3,164.68</span></td><td class=\"Py(10px) Pstart(10px)\" data-reactid=\"154\"><span data-reactid=\"155\">127,502,000</span></td></tr><tr class=\"BdT Bdc($seperatorColor) Ta(end) Fz(s) Whs(nw)\" data-reactid=\"156\"><td class=\"Py(10px) Ta(start) Pend(10px)\" data-reactid=\"157\"><span data-reactid=\"158\">Jun 01, 2020</span></td><td class=\"Py(10px) Pstart(10px)\" data-reactid=\"159\"><span data-reactid=\"160\">2,448.00</span></td><td class=\"Py(10px) Pstart(10px)\" data-reactid=\"161\"><span data-reactid=\"162\">2,796.00</span></td><td class=\"Py(10px) Pstart(10px)\" data-reactid=\"163\"><span data-reactid=\"164\">2,437.13</span></td><td class=\"Py(10px) Pstart(10px)\" data-reactid=\"165\"><span data-reactid=\"166\">2,758.82</span></td><td class=\"Py(10px) Pstart(10px)\" data-reactid=\"167\"><span data-reactid=\"168\">2,758.82</span></td><td class=\"Py(10px) Pstart(10px)\" data-reactid=\"169\"><span data-reactid=\"170\">87,818,300</span></td></tr><tr class=\"BdT Bdc($seperatorColor) Ta(end) Fz(s) Whs(nw)\" data-reactid=\"171\"><td class=\"Py(10px) Ta(start) Pend(10px)\" data-reactid=\"172\"><span data-reactid=\"173\">May 01, 2020</span></td><td class=\"Py(10px) Pstart(10px)\" data-reactid=\"174\"><span data-reactid=\"175\">2,336.80</span></td><td class=\"Py(10px) Pstart(10px)\" data-reactid=\"176\"><span data-reactid=\"177\">2,525.45</span></td><td class=\"Py(10px) Pstart(10px)\" data-reactid=\"178\"><span data-reactid=\"179\">2,256.38</span></td><td class=\"Py(10px) Pstart(10px)\" data-reactid=\"180\"><span data-reactid=\"181\">2,442.37</span></td><td class=\"Py(10px) Pstart(10px)\" data-reactid=\"182\"><span data-reactid=\"183\">2,442.37</span></td><td class=\"Py(10px) Pstart(10px)\" data-reactid=\"184\"><span data-reactid=\"185\">82,584,400</span></td></tr><tr class=\"BdT Bdc($seperatorColor) Ta(end) Fz(s) Whs(nw)\" data-reactid=\"186\"><td class=\"Py(10px) Ta(start) Pend(10px)\" data-reactid=\"187\"><span data-reactid=\"188\">Apr 01, 2020</span></td><td class=\"Py(10px) Pstart(10px)\" data-reactid=\"189\"><span data-reactid=\"190\">1,932.97</span></td><td class=\"Py(10px) Pstart(10px)\" data-reactid=\"191\"><span data-reactid=\"192\">2,475.00</span></td><td class=\"Py(10px) Pstart(10px)\" data-reactid=\"193\"><span data-reactid=\"194\">1,889.15</span></td><td class=\"Py(10px) Pstart(10px)\" data-reactid=\"195\"><span data-reactid=\"196\">2,474.00</span></td><td class=\"Py(10px) Pstart(10px)\" data-reactid=\"197\"><span data-reactid=\"198\">2,474.00</span></td><td class=\"Py(10px) Pstart(10px)\" data-reactid=\"199\"><span data-reactid=\"200\">124,609,800</span></td></tr><tr class=\"BdT Bdc($seperatorColor) Ta(end) Fz(s) Whs(nw)\" data-reactid=\"201\"><td class=\"Py(10px) Ta(start) Pend(10px)\" data-reactid=\"202\"><span data-reactid=\"203\">Mar 01, 2020</span></td><td class=\"Py(10px) Pstart(10px)\" data-reactid=\"204\"><span data-reactid=\"205\">1,906.49</span></td><td class=\"Py(10px) Pstart(10px)\" data-reactid=\"206\"><span data-reactid=\"207\">1,996.33</span></td><td class=\"Py(10px) Pstart(10px)\" data-reactid=\"208\"><span data-reactid=\"209\">1,626.03</span></td><td class=\"Py(10px) Pstart(10px)\" data-reactid=\"210\"><span data-reactid=\"211\">1,949.72</span></td><td class=\"Py(10px) Pstart(10px)\" data-reactid=\"212\"><span data-reactid=\"213\">1,949.72</span></td><td class=\"Py(10px) Pstart(10px)\" data-reactid=\"214\"><span data-reactid=\"215\">163,809,100</span></td></tr><tr class=\"BdT Bdc($seperatorColor) Ta(end) Fz(s) Whs(nw)\" data-reactid=\"216\"><td class=\"Py(10px) Ta(start) Pend(10px)\" data-reactid=\"217\"><span data-reactid=\"218\">Feb 01, 2020</span></td><td class=\"Py(10px) Pstart(10px)\" data-reactid=\"219\"><span data-reactid=\"220\">2,010.60</span></td><td class=\"Py(10px) Pstart(10px)\" data-reactid=\"221\"><span data-reactid=\"222\">2,185.95</span></td><td class=\"Py(10px) Pstart(10px)\" data-reactid=\"223\"><span data-reactid=\"224\">1,811.13</span></td><td class=\"Py(10px) Pstart(10px)\" data-reactid=\"225\"><span data-reactid=\"226\">1,883.75</span></td><td class=\"Py(10px) Pstart(10px)\" data-reactid=\"227\"><span data-reactid=\"228\">1,883.75</span></td><td class=\"Py(10px) Pstart(10px)\" data-reactid=\"229\"><span data-reactid=\"230\">92,510,100</span></td></tr><tr class=\"BdT Bdc($seperatorColor) Ta(end) Fz(s) Whs(nw)\" data-reactid=\"231\"><td class=\"Py(10px) Ta(start) Pend(10px)\" data-reactid=\"232\"><span data-reactid=\"233\">Jan 01, 2020</span></td><td class=\"Py(10px) Pstart(10px)\" data-reactid=\"234\"><span data-reactid=\"235\">1,875.00</span></td><td class=\"Py(10px) Pstart(10px)\" data-reactid=\"236\"><span data-reactid=\"237\">2,055.72</span></td><td class=\"Py(10px) Pstart(10px)\" data-reactid=\"238\"><span data-reactid=\"239\">1,815.34</span></td><td class=\"Py(10px) Pstart(10px)\" data-reactid=\"240\"><span data-reactid=\"241\">2,008.72</span></td><td class=\"Py(10px) Pstart(10px)\" data-reactid=\"242\"><span data-reactid=\"243\">2,008.72</span></td><td class=\"Py(10px) Pstart(10px)\" data-reactid=\"244\"><span data-reactid=\"245\">84,698,300</span></td></tr><tr class=\"BdT Bdc($seperatorColor) Ta(end) Fz(s) Whs(nw)\" data-reactid=\"246\"><td class=\"Py(10px) Ta(start) Pend(10px)\" data-reactid=\"247\"><span data-reactid=\"248\">Dec 01, 2019</span></td><td class=\"Py(10px) Pstart(10px)\" data-reactid=\"249\"><span data-reactid=\"250\">1,804.40</span></td><td class=\"Py(10px) Pstart(10px)\" data-reactid=\"251\"><span data-reactid=\"252\">1,901.40</span></td><td class=\"Py(10px) Pstart(10px)\" data-reactid=\"253\"><span data-reactid=\"254\">1,735.00</span></td><td class=\"Py(10px) Pstart(10px)\" data-reactid=\"255\"><span data-reactid=\"256\">1,847.84</span></td><td class=\"Py(10px) Pstart(10px)\" data-reactid=\"257\"><span data-reactid=\"258\">1,847.84</span></td><td class=\"Py(10px) Pstart(10px)\" data-reactid=\"259\"><span data-reactid=\"260\">68,149,600</span></td></tr><tr class=\"BdT Bdc($seperatorColor) Ta(end) Fz(s) Whs(nw)\" data-reactid=\"261\"><td class=\"Py(10px) Ta(start) Pend(10px)\" data-reactid=\"262\"><span data-reactid=\"263\">Nov 01, 2019</span></td><td class=\"Py(10px) Pstart(10px)\" data-reactid=\"264\"><span data-reactid=\"265\">1,788.01</span></td><td class=\"Py(10px) Pstart(10px)\" data-reactid=\"266\"><span data-reactid=\"267\">1,824.69</span></td><td class=\"Py(10px) Pstart(10px)\" data-reactid=\"268\"><span data-reactid=\"269\">1,722.71</span></td><td class=\"Py(10px) Pstart(10px)\" data-reactid=\"270\"><span data-reactid=\"271\">1,800.80</span></td><td class=\"Py(10px) Pstart(10px)\" data-reactid=\"272\"><span data-reactid=\"273\">1,800.80</span></td><td class=\"Py(10px) Pstart(10px)\" data-reactid=\"274\"><span data-reactid=\"275\">52,076,200</span></td></tr><tr class=\"BdT Bdc($seperatorColor) Ta(end) Fz(s) Whs(nw)\" data-reactid=\"276\"><td class=\"Py(10px) Ta(start) Pend(10px)\" data-reactid=\"277\"><span data-reactid=\"278\">Oct 01, 2019</span></td><td class=\"Py(10px) Pstart(10px)\" data-reactid=\"279\"><span data-reactid=\"280\">1,746.00</span></td><td class=\"Py(10px) Pstart(10px)\" data-reactid=\"281\"><span data-reactid=\"282\">1,798.85</span></td><td class=\"Py(10px) Pstart(10px)\" data-reactid=\"283\"><span data-reactid=\"284\">1,685.06</span></td><td class=\"Py(10px) Pstart(10px)\" data-reactid=\"285\"><span data-reactid=\"286\">1,776.66</span></td><td class=\"Py(10px) Pstart(10px)\" data-reactid=\"287\"><span data-reactid=\"288\">1,776.66</span></td><td class=\"Py(10px) Pstart(10px)\" data-reactid=\"289\"><span data-reactid=\"290\">70,360,500</span></td></tr><tr class=\"BdT Bdc($seperatorColor) Ta(end) Fz(s) Whs(nw)\" data-reactid=\"291\"><td class=\"Py(10px) Ta(start) Pend(10px)\" data-reactid=\"292\"><span data-reactid=\"293\">Sep 01, 2019</span></td><td class=\"Py(10px) Pstart(10px)\" data-reactid=\"294\"><span data-reactid=\"295\">1,770.00</span></td><td class=\"Py(10px) Pstart(10px)\" data-reactid=\"296\"><span data-reactid=\"297\">1,853.66</span></td><td class=\"Py(10px) Pstart(10px)\" data-reactid=\"298\"><span data-reactid=\"299\">1,709.22</span></td><td class=\"Py(10px) Pstart(10px)\" data-reactid=\"300\"><span data-reactid=\"301\">1,735.91</span></td><td class=\"Py(10px) Pstart(10px)\" data-reactid=\"302\"><span data-reactid=\"303\">1,735.91</span></td><td class=\"Py(10px) Pstart(10px)\" data-reactid=\"304\"><span data-reactid=\"305\">61,172,900</span></td></tr><tr class=\"BdT Bdc($seperatorColor) Ta(end) Fz(s) Whs(nw)\" data-reactid=\"306\"><td class=\"Py(10px) Ta(start) Pend(10px)\" data-reactid=\"307\"><span data-reactid=\"308\">Aug 01, 2019</span></td><td class=\"Py(10px) Pstart(10px)\" data-reactid=\"309\"><span data-reactid=\"310\">1,871.72</span></td><td class=\"Py(10px) Pstart(10px)\" data-reactid=\"311\"><span data-reactid=\"312\">1,897.92</span></td><td class=\"Py(10px) Pstart(10px)\" data-reactid=\"313\"><span data-reactid=\"314\">1,743.51</span></td><td class=\"Py(10px) Pstart(10px)\" data-reactid=\"315\"><span data-reactid=\"316\">1,776.29</span></td><td class=\"Py(10px) Pstart(10px)\" data-reactid=\"317\"><span data-reactid=\"318\">1,776.29</span></td><td class=\"Py(10px) Pstart(10px)\" data-reactid=\"319\"><span data-reactid=\"320\">79,771,200</span></td></tr><tr class=\"BdT Bdc($seperatorColor) Ta(end) Fz(s) Whs(nw)\" data-reactid=\"321\"><td class=\"Py(10px) Ta(start) Pend(10px)\" data-reactid=\"322\"><span data-reactid=\"323\">Jul 01, 2019</span></td><td class=\"Py(10px) Pstart(10px)\" data-reactid=\"324\"><span data-reactid=\"325\">1,922.98</span></td><td class=\"Py(10px) Pstart(10px)\" data-reactid=\"326\"><span data-reactid=\"327\">2,035.80</span></td><td class=\"Py(10px) Pstart(10px)\" data-reactid=\"328\"><span data-reactid=\"329\">1,849.44</span></td><td class=\"Py(10px) Pstart(10px)\" data-reactid=\"330\"><span data-reactid=\"331\">1,866.78</span></td><td class=\"Py(10px) Pstart(10px)\" data-reactid=\"332\"><span data-reactid=\"333\">1,866.78</span></td><td class=\"Py(10px) Pstart(10px)\" data-reactid=\"334\"><span data-reactid=\"335\">73,148,800</span></td></tr><tr class=\"BdT Bdc($seperatorColor) Ta(end) Fz(s) Whs(nw)\" data-reactid=\"336\"><td class=\"Py(10px) Ta(start) Pend(10px)\" data-reactid=\"337\"><span data-reactid=\"338\">Jun 01, 2019</span></td><td class=\"Py(10px) Pstart(10px)\" data-reactid=\"339\"><span data-reactid=\"340\">1,760.01</span></td><td class=\"Py(10px) Pstart(10px)\" data-reactid=\"341\"><span data-reactid=\"342\">1,935.20</span></td><td class=\"Py(10px) Pstart(10px)\" data-reactid=\"343\"><span data-reactid=\"344\">1,672.00</span></td><td class=\"Py(10px) Pstart(10px)\" data-reactid=\"345\"><span data-reactid=\"346\">1,893.63</span></td><td class=\"Py(10px) Pstart(10px)\" data-reactid=\"347\"><span data-reactid=\"348\">1,893.63</span></td><td class=\"Py(10px) Pstart(10px)\" data-reactid=\"349\"><span data-reactid=\"350\">74,746,500</span></td></tr><tr class=\"BdT Bdc($seperatorColor) Ta(end) Fz(s) Whs(nw)\" data-reactid=\"351\"><td class=\"Py(10px) Ta(start) Pend(10px)\" data-reactid=\"352\"><span data-reactid=\"353\">May 01, 2019</span></td><td class=\"Py(10px) Pstart(10px)\" data-reactid=\"354\"><span data-reactid=\"355\">1,933.09</span></td><td class=\"Py(10px) Pstart(10px)\" data-reactid=\"356\"><span data-reactid=\"357\">1,964.40</span></td><td class=\"Py(10px) Pstart(10px)\" data-reactid=\"358\"><span data-reactid=\"359\">1,772.70</span></td><td class=\"Py(10px) Pstart(10px)\" data-reactid=\"360\"><span data-reactid=\"361\">1,775.07</span></td><td class=\"Py(10px) Pstart(10px)\" data-reactid=\"362\"><span data-reactid=\"363\">1,775.07</span></td><td class=\"Py(10px) Pstart(10px)\" data-reactid=\"364\"><span data-reactid=\"365\">98,214,400</span></td></tr><tr class=\"BdT Bdc($seperatorColor) Ta(end) Fz(s) Whs(nw)\" data-reactid=\"366\"><td class=\"Py(10px) Ta(start) Pend(10px)\" data-reactid=\"367\"><span data-reactid=\"368\">Apr 01, 2019</span></td><td class=\"Py(10px) Pstart(10px)\" data-reactid=\"369\"><span data-reactid=\"370\">1,800.11</span></td><td class=\"Py(10px) Pstart(10px)\" data-reactid=\"371\"><span data-reactid=\"372\">1,956.34</span></td><td class=\"Py(10px) Pstart(10px)\" data-reactid=\"373\"><span data-reactid=\"374\">1,798.73</span></td><td class=\"Py(10px) Pstart(10px)\" data-reactid=\"375\"><span data-reactid=\"376\">1,926.52</span></td><td class=\"Py(10px) Pstart(10px)\" data-reactid=\"377\"><span data-reactid=\"378\">1,926.52</span></td><td class=\"Py(10px) Pstart(10px)\" data-reactid=\"379\"><span data-reactid=\"380\">81,239,200</span></td></tr><tr class=\"BdT Bdc($seperatorColor) Ta(end) Fz(s) Whs(nw)\" data-reactid=\"381\"><td class=\"Py(10px) Ta(start) Pend(10px)\" data-reactid=\"382\"><span data-reactid=\"383\">Mar 01, 2019</span></td><td class=\"Py(10px) Pstart(10px)\" data-reactid=\"384\"><span data-reactid=\"385\">1,655.13</span></td><td class=\"Py(10px) Pstart(10px)\" data-reactid=\"386\"><span data-reactid=\"387\">1,823.75</span></td><td class=\"Py(10px) Pstart(10px)\" data-reactid=\"388\"><span data-reactid=\"389\">1,586.57</span></td><td class=\"Py(10px) Pstart(10px)\" data-reactid=\"390\"><span data-reactid=\"391\">1,780.75</span></td><td class=\"Py(10px) Pstart(10px)\" data-reactid=\"392\"><span data-reactid=\"393\">1,780.75</span></td><td class=\"Py(10px) Pstart(10px)\" data-reactid=\"394\"><span data-reactid=\"395\">100,832,200</span></td></tr><tr class=\"BdT Bdc($seperatorColor) Ta(end) Fz(s) Whs(nw)\" data-reactid=\"396\"><td class=\"Py(10px) Ta(start) Pend(10px)\" data-reactid=\"397\"><span data-reactid=\"398\">Feb 01, 2019</span></td><td class=\"Py(10px) Pstart(10px)\" data-reactid=\"399\"><span data-reactid=\"400\">1,638.88</span></td><td class=\"Py(10px) Pstart(10px)\" data-reactid=\"401\"><span data-reactid=\"402\">1,673.06</span></td><td class=\"Py(10px) Pstart(10px)\" data-reactid=\"403\"><span data-reactid=\"404\">1,566.76</span></td><td class=\"Py(10px) Pstart(10px)\" data-reactid=\"405\"><span data-reactid=\"406\">1,639.83</span></td><td class=\"Py(10px) Pstart(10px)\" data-reactid=\"407\"><span data-reactid=\"408\">1,639.83</span></td><td class=\"Py(10px) Pstart(10px)\" data-reactid=\"409\"><span data-reactid=\"410\">80,936,900</span></td></tr><tr class=\"BdT Bdc($seperatorColor) Ta(end) Fz(s) Whs(nw)\" data-reactid=\"411\"><td class=\"Py(10px) Ta(start) Pend(10px)\" data-reactid=\"412\"><span data-reactid=\"413\">Jan 01, 2019</span></td><td class=\"Py(10px) Pstart(10px)\" data-reactid=\"414\"><span data-reactid=\"415\">1,465.20</span></td><td class=\"Py(10px) Pstart(10px)\" data-reactid=\"416\"><span data-reactid=\"417\">1,736.41</span></td><td class=\"Py(10px) Pstart(10px)\" data-reactid=\"418\"><span data-reactid=\"419\">1,460.93</span></td><td class=\"Py(10px) Pstart(10px)\" data-reactid=\"420\"><span data-reactid=\"421\">1,718.73</span></td><td class=\"Py(10px) Pstart(10px)\" data-reactid=\"422\"><span data-reactid=\"423\">1,718.73</span></td><td class=\"Py(10px) Pstart(10px)\" data-reactid=\"424\"><span data-reactid=\"425\">134,001,700</span></td></tr><tr class=\"BdT Bdc($seperatorColor) Ta(end) Fz(s) Whs(nw)\" data-reactid=\"426\"><td class=\"Py(10px) Ta(start) Pend(10px)\" data-reactid=\"427\"><span data-reactid=\"428\">Dec 01, 2018</span></td><td class=\"Py(10px) Pstart(10px)\" data-reactid=\"429\"><span data-reactid=\"430\">1,769.46</span></td><td class=\"Py(10px) Pstart(10px)\" data-reactid=\"431\"><span data-reactid=\"432\">1,778.34</span></td><td class=\"Py(10px) Pstart(10px)\" data-reactid=\"433\"><span data-reactid=\"434\">1,307.00</span></td><td class=\"Py(10px) Pstart(10px)\" data-reactid=\"435\"><span data-reactid=\"436\">1,501.97</span></td><td class=\"Py(10px) Pstart(10px)\" data-reactid=\"437\"><span data-reactid=\"438\">1,501.97</span></td><td class=\"Py(10px) Pstart(10px)\" data-reactid=\"439\"><span data-reactid=\"440\">154,812,700</span></td></tr><tr class=\"BdT Bdc($seperatorColor) Ta(end) Fz(s) Whs(nw)\" data-reactid=\"441\"><td class=\"Py(10px) Ta(start) Pend(10px)\" data-reactid=\"442\"><span data-reactid=\"443\">Nov 01, 2018</span></td><td class=\"Py(10px) Pstart(10px)\" data-reactid=\"444\"><span data-reactid=\"445\">1,623.53</span></td><td class=\"Py(10px) Pstart(10px)\" data-reactid=\"446\"><span data-reactid=\"447\">1,784.00</span></td><td class=\"Py(10px) Pstart(10px)\" data-reactid=\"448\"><span data-reactid=\"449\">1,420.00</span></td><td class=\"Py(10px) Pstart(10px)\" data-reactid=\"450\"><span data-reactid=\"451\">1,690.17</span></td><td class=\"Py(10px) Pstart(10px)\" data-reactid=\"452\"><span data-reactid=\"453\">1,690.17</span></td><td class=\"Py(10px) Pstart(10px)\" data-reactid=\"454\"><span data-reactid=\"455\">139,290,000</span></td></tr><tr class=\"BdT Bdc($seperatorColor) Ta(end) Fz(s) Whs(nw)\" data-reactid=\"456\"><td class=\"Py(10px) Ta(start) Pend(10px)\" data-reactid=\"457\"><span data-reactid=\"458\">Oct 01, 2018</span></td><td class=\"Py(10px) Pstart(10px)\" data-reactid=\"459\"><span data-reactid=\"460\">2,021.99</span></td><td class=\"Py(10px) Pstart(10px)\" data-reactid=\"461\"><span data-reactid=\"462\">2,033.19</span></td><td class=\"Py(10px) Pstart(10px)\" data-reactid=\"463\"><span data-reactid=\"464\">1,476.36</span></td><td class=\"Py(10px) Pstart(10px)\" data-reactid=\"465\"><span data-reactid=\"466\">1,598.01</span></td><td class=\"Py(10px) Pstart(10px)\" data-reactid=\"467\"><span data-reactid=\"468\">1,598.01</span></td><td class=\"Py(10px) Pstart(10px)\" data-reactid=\"469\"><span data-reactid=\"470\">183,220,800</span></td></tr><tr class=\"BdT Bdc($seperatorColor) Ta(end) Fz(s) Whs(nw)\" data-reactid=\"471\"><td class=\"Py(10px) Ta(start) Pend(10px)\" data-reactid=\"472\"><span data-reactid=\"473\">Sep 01, 2018</span></td><td class=\"Py(10px) Pstart(10px)\" data-reactid=\"474\"><span data-reactid=\"475\">2,026.50</span></td><td class=\"Py(10px) Pstart(10px)\" data-reactid=\"476\"><span data-reactid=\"477\">2,050.50</span></td><td class=\"Py(10px) Pstart(10px)\" data-reactid=\"478\"><span data-reactid=\"479\">1,865.00</span></td><td class=\"Py(10px) Pstart(10px)\" data-reactid=\"480\"><span data-reactid=\"481\">2,003.00</span></td><td class=\"Py(10px) Pstart(10px)\" data-reactid=\"482\"><span data-reactid=\"483\">2,003.00</span></td><td class=\"Py(10px) Pstart(10px)\" data-reactid=\"484\"><span data-reactid=\"485\">94,445,500</span></td></tr><tr class=\"BdT Bdc($seperatorColor) Ta(end) Fz(s) Whs(nw)\" data-reactid=\"486\"><td class=\"Py(10px) Ta(start) Pend(10px)\" data-reactid=\"487\"><span data-reactid=\"488\">Aug 01, 2018</span></td><td class=\"Py(10px) Pstart(10px)\" data-reactid=\"489\"><span data-reactid=\"490\">1,784.00</span></td><td class=\"Py(10px) Pstart(10px)\" data-reactid=\"491\"><span data-reactid=\"492\">2,025.57</span></td><td class=\"Py(10px) Pstart(10px)\" data-reactid=\"493\"><span data-reactid=\"494\">1,776.02</span></td><td class=\"Py(10px) Pstart(10px)\" data-reactid=\"495\"><span data-reactid=\"496\">2,012.71</span></td><td class=\"Py(10px) Pstart(10px)\" data-reactid=\"497\"><span data-reactid=\"498\">2,012.71</span></td><td class=\"Py(10px) Pstart(10px)\" data-reactid=\"499\"><span data-reactid=\"500\">96,575,800</span></td></tr><tr class=\"BdT Bdc($seperatorColor) Ta(end) Fz(s) Whs(nw)\" data-reactid=\"501\"><td class=\"Py(10px) Ta(start) Pend(10px)\" data-reactid=\"502\"><span data-reactid=\"503\">Jul 01, 2018</span></td><td class=\"Py(10px) Pstart(10px)\" data-reactid=\"504\"><span data-reactid=\"505\">1,682.70</span></td><td class=\"Py(10px) Pstart(10px)\" data-reactid=\"506\"><span data-reactid=\"507\">1,880.05</span></td><td class=\"Py(10px) Pstart(10px)\" data-reactid=\"508\"><span data-reactid=\"509\">1,678.06</span></td><td class=\"Py(10px) Pstart(10px)\" data-reactid=\"510\"><span data-reactid=\"511\">1,777.44</span></td><td class=\"Py(10px) Pstart(10px)\" data-reactid=\"512\"><span data-reactid=\"513\">1,777.44</span></td><td class=\"Py(10px) Pstart(10px)\" data-reactid=\"514\"><span data-reactid=\"515\">97,521,100</span></td></tr><tr class=\"BdT Bdc($seperatorColor) Ta(end) Fz(s) Whs(nw)\" data-reactid=\"516\"><td class=\"Py(10px) Ta(start) Pend(10px)\" data-reactid=\"517\"><span data-reactid=\"518\">Jun 01, 2018</span></td><td class=\"Py(10px) Pstart(10px)\" data-reactid=\"519\"><span data-reactid=\"520\">1,637.03</span></td><td class=\"Py(10px) Pstart(10px)\" data-reactid=\"521\"><span data-reactid=\"522\">1,763.10</span></td><td class=\"Py(10px) Pstart(10px)\" data-reactid=\"523\"><span data-reactid=\"524\">1,635.09</span></td><td class=\"Py(10px) Pstart(10px)\" data-reactid=\"525\"><span data-reactid=\"526\">1,699.80</span></td><td class=\"Py(10px) Pstart(10px)\" data-reactid=\"527\"><span data-reactid=\"528\">1,699.80</span></td><td class=\"Py(10px) Pstart(10px)\" data-reactid=\"529\"><span data-reactid=\"530\">85,941,300</span></td></tr><tr class=\"BdT Bdc($seperatorColor) Ta(end) Fz(s) Whs(nw)\" data-reactid=\"531\"><td class=\"Py(10px) Ta(start) Pend(10px)\" data-reactid=\"532\"><span data-reactid=\"533\">May 01, 2018</span></td><td class=\"Py(10px) Pstart(10px)\" data-reactid=\"534\"><span data-reactid=\"535\">1,563.22</span></td><td class=\"Py(10px) Pstart(10px)\" data-reactid=\"536\"><span data-reactid=\"537\">1,635.00</span></td><td class=\"Py(10px) Pstart(10px)\" data-reactid=\"538\"><span data-reactid=\"539\">1,546.02</span></td><td class=\"Py(10px) Pstart(10px)\" data-reactid=\"540\"><span data-reactid=\"541\">1,629.62</span></td><td class=\"Py(10px) Pstart(10px)\" data-reactid=\"542\"><span data-reactid=\"543\">1,629.62</span></td><td class=\"Py(10px) Pstart(10px)\" data-reactid=\"544\"><span data-reactid=\"545\">71,615,500</span></td></tr><tr class=\"BdT Bdc($seperatorColor) Ta(end) Fz(s) Whs(nw)\" data-reactid=\"546\"><td class=\"Py(10px) Ta(start) Pend(10px)\" data-reactid=\"547\"><span data-reactid=\"548\">Apr 01, 2018</span></td><td class=\"Py(10px) Pstart(10px)\" data-reactid=\"549\"><span data-reactid=\"550\">1,417.62</span></td><td class=\"Py(10px) Pstart(10px)\" data-reactid=\"551\"><span data-reactid=\"552\">1,638.10</span></td><td class=\"Py(10px) Pstart(10px)\" data-reactid=\"553\"><span data-reactid=\"554\">1,352.88</span></td><td class=\"Py(10px) Pstart(10px)\" data-reactid=\"555\"><span data-reactid=\"556\">1,566.13</span></td><td class=\"Py(10px) Pstart(10px)\" data-reactid=\"557\"><span data-reactid=\"558\">1,566.13</span></td><td class=\"Py(10px) Pstart(10px)\" data-reactid=\"559\"><span data-reactid=\"560\">129,919,600</span></td></tr><tr class=\"BdT Bdc($seperatorColor) Ta(end) Fz(s) Whs(nw)\" data-reactid=\"561\"><td class=\"Py(10px) Ta(start) Pend(10px)\" data-reactid=\"562\"><span data-reactid=\"563\">Mar 01, 2018</span></td><td class=\"Py(10px) Pstart(10px)\" data-reactid=\"564\"><span data-reactid=\"565\">1,513.60</span></td><td class=\"Py(10px) Pstart(10px)\" data-reactid=\"566\"><span data-reactid=\"567\">1,617.54</span></td><td class=\"Py(10px) Pstart(10px)\" data-reactid=\"568\"><span data-reactid=\"569\">1,365.20</span></td><td class=\"Py(10px) Pstart(10px)\" data-reactid=\"570\"><span data-reactid=\"571\">1,447.34</span></td><td class=\"Py(10px) Pstart(10px)\" data-reactid=\"572\"><span data-reactid=\"573\">1,447.34</span></td><td class=\"Py(10px) Pstart(10px)\" data-reactid=\"574\"><span data-reactid=\"575\">130,400,100</span></td></tr><tr class=\"BdT Bdc($seperatorColor) Ta(end) Fz(s) Whs(nw)\" data-reactid=\"576\"><td class=\"Py(10px) Ta(start) Pend(10px)\" data-reactid=\"577\"><span data-reactid=\"578\">Feb 01, 2018</span></td><td class=\"Py(10px) Pstart(10px)\" data-reactid=\"579\"><span data-reactid=\"580\">1,445.00</span></td><td class=\"Py(10px) Pstart(10px)\" data-reactid=\"581\"><span data-reactid=\"582\">1,528.70</span></td><td class=\"Py(10px) Pstart(10px)\" data-reactid=\"583\"><span data-reactid=\"584\">1,265.93</span></td><td class=\"Py(10px) Pstart(10px)\" data-reactid=\"585\"><span data-reactid=\"586\">1,512.45</span></td><td class=\"Py(10px) Pstart(10px)\" data-reactid=\"587\"><span data-reactid=\"588\">1,512.45</span></td><td class=\"Py(10px) Pstart(10px)\" data-reactid=\"589\"><span data-reactid=\"590\">137,784,000</span></td></tr><tr class=\"BdT Bdc($seperatorColor) Ta(end) Fz(s) Whs(nw)\" data-reactid=\"591\"><td class=\"Py(10px) Ta(start) Pend(10px)\" data-reactid=\"592\"><span data-reactid=\"593\">Jan 01, 2018</span></td><td class=\"Py(10px) Pstart(10px)\" data-reactid=\"594\"><span data-reactid=\"595\">1,172.00</span></td><td class=\"Py(10px) Pstart(10px)\" data-reactid=\"596\"><span data-reactid=\"597\">1,472.58</span></td><td class=\"Py(10px) Pstart(10px)\" data-reactid=\"598\"><span data-reactid=\"599\">1,170.51</span></td><td class=\"Py(10px) Pstart(10px)\" data-reactid=\"600\"><span data-reactid=\"601\">1,450.89</span></td><td class=\"Py(10px) Pstart(10px)\" data-reactid=\"602\"><span data-reactid=\"603\">1,450.89</span></td><td class=\"Py(10px) Pstart(10px)\" data-reactid=\"604\"><span data-reactid=\"605\">96,371,200</span></td></tr><tr class=\"BdT Bdc($seperatorColor) Ta(end) Fz(s) Whs(nw)\" data-reactid=\"606\"><td class=\"Py(10px) Ta(start) Pend(10px)\" data-reactid=\"607\"><span data-reactid=\"608\">Dec 01, 2017</span></td><td class=\"Py(10px) Pstart(10px)\" data-reactid=\"609\"><span data-reactid=\"610\">1,172.05</span></td><td class=\"Py(10px) Pstart(10px)\" data-reactid=\"611\"><span data-reactid=\"612\">1,194.78</span></td><td class=\"Py(10px) Pstart(10px)\" data-reactid=\"613\"><span data-reactid=\"614\">1,124.74</span></td><td class=\"Py(10px) Pstart(10px)\" data-reactid=\"615\"><span data-reactid=\"616\">1,169.47</span></td><td class=\"Py(10px) Pstart(10px)\" data-reactid=\"617\"><span data-reactid=\"618\">1,169.47</span></td><td class=\"Py(10px) Pstart(10px)\" data-reactid=\"619\"><span data-reactid=\"620\">57,760,200</span></td></tr><tr class=\"BdT Bdc($seperatorColor) Ta(end) Fz(s) Whs(nw)\" data-reactid=\"621\"><td class=\"Py(10px) Ta(start) Pend(10px)\" data-reactid=\"622\"><span data-reactid=\"623\">Nov 01, 2017</span></td><td class=\"Py(10px) Pstart(10px)\" data-reactid=\"624\"><span data-reactid=\"625\">1,105.40</span></td><td class=\"Py(10px) Pstart(10px)\" data-reactid=\"626\"><span data-reactid=\"627\">1,213.41</span></td><td class=\"Py(10px) Pstart(10px)\" data-reactid=\"628\"><span data-reactid=\"629\">1,086.87</span></td><td class=\"Py(10px) Pstart(10px)\" data-reactid=\"630\"><span data-reactid=\"631\">1,176.75</span></td><td class=\"Py(10px) Pstart(10px)\" data-reactid=\"632\"><span data-reactid=\"633\">1,176.75</span></td><td class=\"Py(10px) Pstart(10px)\" data-reactid=\"634\"><span data-reactid=\"635\">77,165,000</span></td></tr><tr class=\"BdT Bdc($seperatorColor) Ta(end) Fz(s) Whs(nw)\" data-reactid=\"636\"><td class=\"Py(10px) Ta(start) Pend(10px)\" data-reactid=\"637\"><span data-reactid=\"638\">Oct 01, 2017</span></td><td class=\"Py(10px) Pstart(10px)\" data-reactid=\"639\"><span data-reactid=\"640\">964.00</span></td><td class=\"Py(10px) Pstart(10px)\" data-reactid=\"641\"><span data-reactid=\"642\">1,122.79</span></td><td class=\"Py(10px) Pstart(10px)\" data-reactid=\"643\"><span data-reactid=\"644\">950.37</span></td><td class=\"Py(10px) Pstart(10px)\" data-reactid=\"645\"><span data-reactid=\"646\">1,105.28</span></td><td class=\"Py(10px) Pstart(10px)\" data-reactid=\"647\"><span data-reactid=\"648\">1,105.28</span></td><td class=\"Py(10px) Pstart(10px)\" data-reactid=\"649\"><span data-reactid=\"650\">83,334,100</span></td></tr><tr class=\"BdT Bdc($seperatorColor) Ta(end) Fz(s) Whs(nw)\" data-reactid=\"651\"><td class=\"Py(10px) Ta(start) Pend(10px)\" data-reactid=\"652\"><span data-reactid=\"653\">Sep 01, 2017</span></td><td class=\"Py(10px) Pstart(10px)\" data-reactid=\"654\"><span data-reactid=\"655\">984.20</span></td><td class=\"Py(10px) Pstart(10px)\" data-reactid=\"656\"><span data-reactid=\"657\">1,000.00</span></td><td class=\"Py(10px) Pstart(10px)\" data-reactid=\"658\"><span data-reactid=\"659\">931.75</span></td><td class=\"Py(10px) Pstart(10px)\" data-reactid=\"660\"><span data-reactid=\"661\">961.35</span></td><td class=\"Py(10px) Pstart(10px)\" data-reactid=\"662\"><span data-reactid=\"663\">961.35</span></td><td class=\"Py(10px) Pstart(10px)\" data-reactid=\"664\"><span data-reactid=\"665\">59,291,800</span></td></tr><tr class=\"BdT Bdc($seperatorColor) Ta(end) Fz(s) Whs(nw)\" data-reactid=\"666\"><td class=\"Py(10px) Ta(start) Pend(10px)\" data-reactid=\"667\"><span data-reactid=\"668\">Aug 01, 2017</span></td><td class=\"Py(10px) Pstart(10px)\" data-reactid=\"669\"><span data-reactid=\"670\">996.11</span></td><td class=\"Py(10px) Pstart(10px)\" data-reactid=\"671\"><span data-reactid=\"672\">1,006.40</span></td><td class=\"Py(10px) Pstart(10px)\" data-reactid=\"673\"><span data-reactid=\"674\">936.33</span></td><td class=\"Py(10px) Pstart(10px)\" data-reactid=\"675\"><span data-reactid=\"676\">980.60</span></td><td class=\"Py(10px) Pstart(10px)\" data-reactid=\"677\"><span data-reactid=\"678\">980.60</span></td><td class=\"Py(10px) Pstart(10px)\" data-reactid=\"679\"><span data-reactid=\"680\">77,391,800</span></td></tr><tr class=\"BdT Bdc($seperatorColor) Ta(end) Fz(s) Whs(nw)\" data-reactid=\"681\"><td class=\"Py(10px) Ta(start) Pend(10px)\" data-reactid=\"682\"><span data-reactid=\"683\">Jul 01, 2017</span></td><td class=\"Py(10px) Pstart(10px)\" data-reactid=\"684\"><span data-reactid=\"685\">972.79</span></td><td class=\"Py(10px) Pstart(10px)\" data-reactid=\"686\"><span data-reactid=\"687\">1,083.31</span></td><td class=\"Py(10px) Pstart(10px)\" data-reactid=\"688\"><span data-reactid=\"689\">951.00</span></td><td class=\"Py(10px) Pstart(10px)\" data-reactid=\"690\"><span data-reactid=\"691\">987.78</span></td><td class=\"Py(10px) Pstart(10px)\" data-reactid=\"692\"><span data-reactid=\"693\">987.78</span></td><td class=\"Py(10px) Pstart(10px)\" data-reactid=\"694\"><span data-reactid=\"695\">78,812,400</span></td></tr><tr class=\"BdT Bdc($seperatorColor) Ta(end) Fz(s) Whs(nw)\" data-reactid=\"696\"><td class=\"Py(10px) Ta(start) Pend(10px)\" data-reactid=\"697\"><span data-reactid=\"698\">Jun 01, 2017</span></td><td class=\"Py(10px) Pstart(10px)\" data-reactid=\"699\"><span data-reactid=\"700\">998.59</span></td><td class=\"Py(10px) Pstart(10px)\" data-reactid=\"701\"><span data-reactid=\"702\">1,017.00</span></td><td class=\"Py(10px) Pstart(10px)\" data-reactid=\"703\"><span data-reactid=\"704\">927.00</span></td><td class=\"Py(10px) Pstart(10px)\" data-reactid=\"705\"><span data-reactid=\"706\">968.00</span></td><td class=\"Py(10px) Pstart(10px)\" data-reactid=\"707\"><span data-reactid=\"708\">968.00</span></td><td class=\"Py(10px) Pstart(10px)\" data-reactid=\"709\"><span data-reactid=\"710\">96,135,400</span></td></tr><tr class=\"BdT Bdc($seperatorColor) Ta(end) Fz(s) Whs(nw)\" data-reactid=\"711\"><td class=\"Py(10px) Ta(start) Pend(10px)\" data-reactid=\"712\"><span data-reactid=\"713\">May 01, 2017</span></td><td class=\"Py(10px) Pstart(10px)\" data-reactid=\"714\"><span data-reactid=\"715\">927.80</span></td><td class=\"Py(10px) Pstart(10px)\" data-reactid=\"716\"><span data-reactid=\"717\">1,001.20</span></td><td class=\"Py(10px) Pstart(10px)\" data-reactid=\"718\"><span data-reactid=\"719\">927.80</span></td><td class=\"Py(10px) Pstart(10px)\" data-reactid=\"720\"><span data-reactid=\"721\">994.62</span></td><td class=\"Py(10px) Pstart(10px)\" data-reactid=\"722\"><span data-reactid=\"723\">994.62</span></td><td class=\"Py(10px) Pstart(10px)\" data-reactid=\"724\"><span data-reactid=\"725\">76,202,000</span></td></tr><tr class=\"BdT Bdc($seperatorColor) Ta(end) Fz(s) Whs(nw)\" data-reactid=\"726\"><td class=\"Py(10px) Ta(start) Pend(10px)\" data-reactid=\"727\"><span data-reactid=\"728\">Apr 01, 2017</span></td><td class=\"Py(10px) Pstart(10px)\" data-reactid=\"729\"><span data-reactid=\"730\">888.00</span></td><td class=\"Py(10px) Pstart(10px)\" data-reactid=\"731\"><span data-reactid=\"732\">949.59</span></td><td class=\"Py(10px) Pstart(10px)\" data-reactid=\"733\"><span data-reactid=\"734\">884.49</span></td><td class=\"Py(10px) Pstart(10px)\" data-reactid=\"735\"><span data-reactid=\"736\">924.99</span></td><td class=\"Py(10px) Pstart(10px)\" data-reactid=\"737\"><span data-reactid=\"738\">924.99</span></td><td class=\"Py(10px) Pstart(10px)\" data-reactid=\"739\"><span data-reactid=\"740\">73,539,700</span></td></tr><tr class=\"BdT Bdc($seperatorColor) Ta(end) Fz(s) Whs(nw)\" data-reactid=\"741\"><td class=\"Py(10px) Ta(start) Pend(10px)\" data-reactid=\"742\"><span data-reactid=\"743\">Mar 01, 2017</span></td><td class=\"Py(10px) Pstart(10px)\" data-reactid=\"744\"><span data-reactid=\"745\">853.05</span></td><td class=\"Py(10px) Pstart(10px)\" data-reactid=\"746\"><span data-reactid=\"747\">890.35</span></td><td class=\"Py(10px) Pstart(10px)\" data-reactid=\"748\"><span data-reactid=\"749\">833.50</span></td><td class=\"Py(10px) Pstart(10px)\" data-reactid=\"750\"><span data-reactid=\"751\">886.54</span></td><td class=\"Py(10px) Pstart(10px)\" data-reactid=\"752\"><span data-reactid=\"753\">886.54</span></td><td class=\"Py(10px) Pstart(10px)\" data-reactid=\"754\"><span data-reactid=\"755\">60,710,700</span></td></tr><tr class=\"BdT Bdc($seperatorColor) Ta(end) Fz(s) Whs(nw)\" data-reactid=\"756\"><td class=\"Py(10px) Ta(start) Pend(10px)\" data-reactid=\"757\"><span data-reactid=\"758\">Feb 01, 2017</span></td><td class=\"Py(10px) Pstart(10px)\" data-reactid=\"759\"><span data-reactid=\"760\">829.21</span></td><td class=\"Py(10px) Pstart(10px)\" data-reactid=\"761\"><span data-reactid=\"762\">860.86</span></td><td class=\"Py(10px) Pstart(10px)\" data-reactid=\"763\"><span data-reactid=\"764\">803.00</span></td><td class=\"Py(10px) Pstart(10px)\" data-reactid=\"765\"><span data-reactid=\"766\">845.04</span></td><td class=\"Py(10px) Pstart(10px)\" data-reactid=\"767\"><span data-reactid=\"768\">845.04</span></td><td class=\"Py(10px) Pstart(10px)\" data-reactid=\"769\"><span data-reactid=\"770\">71,748,300</span></td></tr><tr class=\"BdT Bdc($seperatorColor) Ta(end) Fz(s) Whs(nw)\" data-reactid=\"771\"><td class=\"Py(10px) Ta(start) Pend(10px)\" data-reactid=\"772\"><span data-reactid=\"773\">Jan 01, 2017</span></td><td class=\"Py(10px) Pstart(10px)\" data-reactid=\"774\"><span data-reactid=\"775\">757.92</span></td><td class=\"Py(10px) Pstart(10px)\" data-reactid=\"776\"><span data-reactid=\"777\">843.84</span></td><td class=\"Py(10px) Pstart(10px)\" data-reactid=\"778\"><span data-reactid=\"779\">747.70</span></td><td class=\"Py(10px) Pstart(10px)\" data-reactid=\"780\"><span data-reactid=\"781\">823.48</span></td><td class=\"Py(10px) Pstart(10px)\" data-reactid=\"782\"><span data-reactid=\"783\">823.48</span></td><td class=\"Py(10px) Pstart(10px)\" data-reactid=\"784\"><span data-reactid=\"785\">70,614,000</span></td></tr><tr class=\"BdT Bdc($seperatorColor) Ta(end) Fz(s) Whs(nw)\" data-reactid=\"786\"><td class=\"Py(10px) Ta(start) Pend(10px)\" data-reactid=\"787\"><span data-reactid=\"788\">Dec 01, 2016</span></td><td class=\"Py(10px) Pstart(10px)\" data-reactid=\"789\"><span data-reactid=\"790\">752.41</span></td><td class=\"Py(10px) Pstart(10px)\" data-reactid=\"791\"><span data-reactid=\"792\">782.46</span></td><td class=\"Py(10px) Pstart(10px)\" data-reactid=\"793\"><span data-reactid=\"794\">736.70</span></td><td class=\"Py(10px) Pstart(10px)\" data-reactid=\"795\"><span data-reactid=\"796\">749.87</span></td><td class=\"Py(10px) Pstart(10px)\" data-reactid=\"797\"><span data-reactid=\"798\">749.87</span></td><td class=\"Py(10px) Pstart(10px)\" data-reactid=\"799\"><span data-reactid=\"800\">73,660,200</span></td></tr><tr class=\"BdT Bdc($seperatorColor) Ta(end) Fz(s) Whs(nw)\" data-reactid=\"801\"><td class=\"Py(10px) Ta(start) Pend(10px)\" data-reactid=\"802\"><span data-reactid=\"803\">Nov 01, 2016</span></td><td class=\"Py(10px) Pstart(10px)\" data-reactid=\"804\"><span data-reactid=\"805\">799.00</span></td><td class=\"Py(10px) Pstart(10px)\" data-reactid=\"806\"><span data-reactid=\"807\">800.84</span></td><td class=\"Py(10px) Pstart(10px)\" data-reactid=\"808\"><span data-reactid=\"809\">710.10</span></td><td class=\"Py(10px) Pstart(10px)\" data-reactid=\"810\"><span data-reactid=\"811\">750.57</span></td><td class=\"Py(10px) Pstart(10px)\" data-reactid=\"812\"><span data-reactid=\"813\">750.57</span></td><td class=\"Py(10px) Pstart(10px)\" data-reactid=\"814\"><span data-reactid=\"815\">110,085,900</span></td></tr><tr class=\"BdT Bdc($seperatorColor) Ta(end) Fz(s) Whs(nw)\" data-reactid=\"816\"><td class=\"Py(10px) Ta(start) Pend(10px)\" data-reactid=\"817\"><span data-reactid=\"818\">Oct 01, 2016</span></td><td class=\"Py(10px) Pstart(10px)\" data-reactid=\"819\"><span data-reactid=\"820\">836.00</span></td><td class=\"Py(10px) Pstart(10px)\" data-reactid=\"821\"><span data-reactid=\"822\">847.21</span></td><td class=\"Py(10px) Pstart(10px)\" data-reactid=\"823\"><span data-reactid=\"824\">774.61</span></td><td class=\"Py(10px) Pstart(10px)\" data-reactid=\"825\"><span data-reactid=\"826\">789.82</span></td><td class=\"Py(10px) Pstart(10px)\" data-reactid=\"827\"><span data-reactid=\"828\">789.82</span></td><td class=\"Py(10px) Pstart(10px)\" data-reactid=\"829\"><span data-reactid=\"830\">77,063,800</span></td></tr><tr class=\"BdT Bdc($seperatorColor) Ta(end) Fz(s) Whs(nw)\" data-reactid=\"831\"><td class=\"Py(10px) Ta(start) Pend(10px)\" data-reactid=\"832\"><span data-reactid=\"833\">Sep 01, 2016</span></td><td class=\"Py(10px) Pstart(10px)\" data-reactid=\"834\"><span data-reactid=\"835\">770.90</span></td><td class=\"Py(10px) Pstart(10px)\" data-reactid=\"836\"><span data-reactid=\"837\">839.95</span></td><td class=\"Py(10px) Pstart(10px)\" data-reactid=\"838\"><span data-reactid=\"839\">756.00</span></td><td class=\"Py(10px) Pstart(10px)\" data-reactid=\"840\"><span data-reactid=\"841\">837.31</span></td><td class=\"Py(10px) Pstart(10px)\" data-reactid=\"842\"><span data-reactid=\"843\">837.31</span></td><td class=\"Py(10px) Pstart(10px)\" data-reactid=\"844\"><span data-reactid=\"845\">67,335,700</span></td></tr><tr class=\"BdT Bdc($seperatorColor) Ta(end) Fz(s) Whs(nw)\" data-reactid=\"846\"><td class=\"Py(10px) Ta(start) Pend(10px)\" data-reactid=\"847\"><span data-reactid=\"848\">Aug 01, 2016</span></td><td class=\"Py(10px) Pstart(10px)\" data-reactid=\"849\"><span data-reactid=\"850\">759.87</span></td><td class=\"Py(10px) Pstart(10px)\" data-reactid=\"851\"><span data-reactid=\"852\">774.98</span></td><td class=\"Py(10px) Pstart(10px)\" data-reactid=\"853\"><span data-reactid=\"854\">750.35</span></td><td class=\"Py(10px) Pstart(10px)\" data-reactid=\"855\"><span data-reactid=\"856\">769.16</span></td><td class=\"Py(10px) Pstart(10px)\" data-reactid=\"857\"><span data-reactid=\"858\">769.16</span></td><td class=\"Py(10px) Pstart(10px)\" data-reactid=\"859\"><span data-reactid=\"860\">50,000,400</span></td></tr><tr class=\"BdT Bdc($seperatorColor) Ta(end) Fz(s) Whs(nw)\" data-reactid=\"861\"><td class=\"Py(10px) Ta(start) Pend(10px)\" data-reactid=\"862\"><span data-reactid=\"863\">Jul 01, 2016</span></td><td class=\"Py(10px) Pstart(10px)\" data-reactid=\"864\"><span data-reactid=\"865\">717.32</span></td><td class=\"Py(10px) Pstart(10px)\" data-reactid=\"866\"><span data-reactid=\"867\">766.00</span></td><td class=\"Py(10px) Pstart(10px)\" data-reactid=\"868\"><span data-reactid=\"869\">716.54</span></td><td class=\"Py(10px) Pstart(10px)\" data-reactid=\"870\"><span data-reactid=\"871\">758.81</span></td><td class=\"Py(10px) Pstart(10px)\" data-reactid=\"872\"><span data-reactid=\"873\">758.81</span></td><td class=\"Py(10px) Pstart(10px)\" data-reactid=\"874\"><span data-reactid=\"875\">68,635,500</span></td></tr><tr class=\"BdT Bdc($seperatorColor) Ta(end) Fz(s) Whs(nw)\" data-reactid=\"876\"><td class=\"Py(10px) Ta(start) Pend(10px)\" data-reactid=\"877\"><span data-reactid=\"878\">Jun 01, 2016</span></td><td class=\"Py(10px) Pstart(10px)\" data-reactid=\"879\"><span data-reactid=\"880\">720.90</span></td><td class=\"Py(10px) Pstart(10px)\" data-reactid=\"881\"><span data-reactid=\"882\">731.50</span></td><td class=\"Py(10px) Pstart(10px)\" data-reactid=\"883\"><span data-reactid=\"884\">682.12</span></td><td class=\"Py(10px) Pstart(10px)\" data-reactid=\"885\"><span data-reactid=\"886\">715.62</span></td><td class=\"Py(10px) Pstart(10px)\" data-reactid=\"887\"><span data-reactid=\"888\">715.62</span></td><td class=\"Py(10px) Pstart(10px)\" data-reactid=\"889\"><span data-reactid=\"890\">74,540,900</span></td></tr><tr class=\"BdT Bdc($seperatorColor) Ta(end) Fz(s) Whs(nw)\" data-reactid=\"891\"><td class=\"Py(10px) Ta(start) Pend(10px)\" data-reactid=\"892\"><span data-reactid=\"893\">May 01, 2016</span></td><td class=\"Py(10px) Pstart(10px)\" data-reactid=\"894\"><span data-reactid=\"895\">663.92</span></td><td class=\"Py(10px) Pstart(10px)\" data-reactid=\"896\"><span data-reactid=\"897\">724.23</span></td><td class=\"Py(10px) Pstart(10px)\" data-reactid=\"898\"><span data-reactid=\"899\">656.00</span></td><td class=\"Py(10px) Pstart(10px)\" data-reactid=\"900\"><span data-reactid=\"901\">722.79</span></td><td class=\"Py(10px) Pstart(10px)\" data-reactid=\"902\"><span data-reactid=\"903\">722.79</span></td><td class=\"Py(10px) Pstart(10px)\" data-reactid=\"904\"><span data-reactid=\"905\">90,614,500</span></td></tr><tr class=\"BdT Bdc($seperatorColor) Ta(end) Fz(s) Whs(nw)\" data-reactid=\"906\"><td class=\"Py(10px) Ta(start) Pend(10px)\" data-reactid=\"907\"><span data-reactid=\"908\">Apr 01, 2016</span></td><td class=\"Py(10px) Pstart(10px)\" data-reactid=\"909\"><span data-reactid=\"910\">590.49</span></td><td class=\"Py(10px) Pstart(10px)\" data-reactid=\"911\"><span data-reactid=\"912\">669.98</span></td><td class=\"Py(10px) Pstart(10px)\" data-reactid=\"913\"><span data-reactid=\"914\">585.25</span></td><td class=\"Py(10px) Pstart(10px)\" data-reactid=\"915\"><span data-reactid=\"916\">659.59</span></td><td class=\"Py(10px) Pstart(10px)\" data-reactid=\"917\"><span data-reactid=\"918\">659.59</span></td><td class=\"Py(10px) Pstart(10px)\" data-reactid=\"919\"><span data-reactid=\"920\">78,464,200</span></td></tr><tr class=\"BdT Bdc($seperatorColor) Ta(end) Fz(s) Whs(nw)\" data-reactid=\"921\"><td class=\"Py(10px) Ta(start) Pend(10px)\" data-reactid=\"922\"><span data-reactid=\"923\">Mar 01, 2016</span></td><td class=\"Py(10px) Pstart(10px)\" data-reactid=\"924\"><span data-reactid=\"925\">556.29</span></td><td class=\"Py(10px) Pstart(10px)\" data-reactid=\"926\"><span data-reactid=\"927\">603.24</span></td><td class=\"Py(10px) Pstart(10px)\" data-reactid=\"928\"><span data-reactid=\"929\">538.58</span></td><td class=\"Py(10px) Pstart(10px)\" data-reactid=\"930\"><span data-reactid=\"931\">593.64</span></td><td class=\"Py(10px) Pstart(10px)\" data-reactid=\"932\"><span data-reactid=\"933\">593.64</span></td><td class=\"Py(10px) Pstart(10px)\" data-reactid=\"934\"><span data-reactid=\"935\">94,009,500</span></td></tr><tr class=\"BdT Bdc($seperatorColor) Ta(end) Fz(s) Whs(nw)\" data-reactid=\"936\"><td class=\"Py(10px) Ta(start) Pend(10px)\" data-reactid=\"937\"><span data-reactid=\"938\">Feb 01, 2016</span></td><td class=\"Py(10px) Pstart(10px)\" data-reactid=\"939\"><span data-reactid=\"940\">578.15</span></td><td class=\"Py(10px) Pstart(10px)\" data-reactid=\"941\"><span data-reactid=\"942\">581.80</span></td><td class=\"Py(10px) Pstart(10px)\" data-reactid=\"943\"><span data-reactid=\"944\">474.00</span></td><td class=\"Py(10px) Pstart(10px)\" data-reactid=\"945\"><span data-reactid=\"946\">552.52</span></td><td class=\"Py(10px) Pstart(10px)\" data-reactid=\"947\"><span data-reactid=\"948\">552.52</span></td><td class=\"Py(10px) Pstart(10px)\" data-reactid=\"949\"><span data-reactid=\"950\">124,144,800</span></td></tr><tr class=\"BdT Bdc($seperatorColor) Ta(end) Fz(s) Whs(nw)\" data-reactid=\"951\"><td class=\"Py(10px) Ta(start) Pend(10px)\" data-reactid=\"952\"><span data-reactid=\"953\">Jan 01, 2016</span></td><td class=\"Py(10px) Pstart(10px)\" data-reactid=\"954\"><span data-reactid=\"955\">656.29</span></td><td class=\"Py(10px) Pstart(10px)\" data-reactid=\"956\"><span data-reactid=\"957\">657.72</span></td><td class=\"Py(10px) Pstart(10px)\" data-reactid=\"958\"><span data-reactid=\"959\">547.18</span></td><td class=\"Py(10px) Pstart(10px)\" data-reactid=\"960\"><span data-reactid=\"961\">587.00</span></td><td class=\"Py(10px) Pstart(10px)\" data-reactid=\"962\"><span data-reactid=\"963\">587.00</span></td><td class=\"Py(10px) Pstart(10px)\" data-reactid=\"964\"><span data-reactid=\"965\">130,200,900</span></td></tr></tbody><tfoot data-reactid=\"966\"><tr class=\"BdT Bdc($seperatorColor) C($tertiaryColor) H(36px)\" data-reactid=\"967\"><td class=\"Fz(xs)\" colspan=\"7\" data-reactid=\"968\"><span data-reactid=\"969\">*Close price adjusted for splits.</span><span class=\"Mstart(20px)\" data-reactid=\"970\"><span data-reactid=\"971\">**Adjusted close price adjusted for both dividends and splits.</span></span></td></tr></tfoot></table>"
      ]
     },
     "execution_count": 20,
     "metadata": {},
     "output_type": "execute_result"
    }
   ],
   "source": [
    "tables = soup.findAll('table')"
   ]
  },
  {
   "cell_type": "markdown",
   "metadata": {},
   "source": [
    "Using beautiful soup extract the table with historical share prices and store it into a dataframe named `amazon_data`. The dataframe should have columns Date, Open, High, Low, Close, Adj Close, and Volume. Fill in each variable with the correct data from the list `col`. \n"
   ]
  },
  {
   "cell_type": "code",
   "execution_count": 50,
   "metadata": {
    "tags": []
   },
   "outputs": [],
   "source": [
    "amazon_data = pd.DataFrame(columns=[\"Date\", \"Open\", \"High\", \"Low\", \"Close\", \"Volume\"])\n",
    "\n",
    "for row in soup.find(\"tbody\").find_all(\"tr\"):\n",
    "    col = row.find_all(\"td\")\n",
    "    date = col[0].text #ADD_CODE\n",
    "    Open = col[1].text #ADD_CODE\n",
    "    high = col[2].text #ADD_CODE\n",
    "    low = col[3].text #ADD_CODE\n",
    "    close = col[4].text #ADD_CODE\n",
    "    adj_close = col[5].text #ADD_CODE\n",
    "    volume = col[6].text #ADD_CODE\n",
    "    \n",
    "    amazon_data = amazon_data.append({\"Date\":date, \"Open\":Open, \"High\":high, \"Low\":low, \"Close\":close, \"Adj Close\":adj_close, \"Volume\":volume}, ignore_index=True)"
   ]
  },
  {
   "cell_type": "markdown",
   "metadata": {},
   "source": [
    "Print out the first five rows of the `amazon_data` dataframe you created.\n"
   ]
  },
  {
   "cell_type": "code",
   "execution_count": 51,
   "metadata": {
    "tags": []
   },
   "outputs": [
    {
     "data": {
      "text/html": [
       "<div>\n",
       "<style scoped>\n",
       "    .dataframe tbody tr th:only-of-type {\n",
       "        vertical-align: middle;\n",
       "    }\n",
       "\n",
       "    .dataframe tbody tr th {\n",
       "        vertical-align: top;\n",
       "    }\n",
       "\n",
       "    .dataframe thead th {\n",
       "        text-align: right;\n",
       "    }\n",
       "</style>\n",
       "<table border=\"1\" class=\"dataframe\">\n",
       "  <thead>\n",
       "    <tr style=\"text-align: right;\">\n",
       "      <th></th>\n",
       "      <th>Date</th>\n",
       "      <th>Open</th>\n",
       "      <th>High</th>\n",
       "      <th>Low</th>\n",
       "      <th>Close</th>\n",
       "      <th>Volume</th>\n",
       "      <th>Adj Close</th>\n",
       "    </tr>\n",
       "  </thead>\n",
       "  <tbody>\n",
       "    <tr>\n",
       "      <th>0</th>\n",
       "      <td>Jan 01, 2021</td>\n",
       "      <td>3,270.00</td>\n",
       "      <td>3,363.89</td>\n",
       "      <td>3,086.00</td>\n",
       "      <td>3,206.20</td>\n",
       "      <td>71,528,900</td>\n",
       "      <td>3,206.20</td>\n",
       "    </tr>\n",
       "    <tr>\n",
       "      <th>1</th>\n",
       "      <td>Dec 01, 2020</td>\n",
       "      <td>3,188.50</td>\n",
       "      <td>3,350.65</td>\n",
       "      <td>3,072.82</td>\n",
       "      <td>3,256.93</td>\n",
       "      <td>77,556,200</td>\n",
       "      <td>3,256.93</td>\n",
       "    </tr>\n",
       "    <tr>\n",
       "      <th>2</th>\n",
       "      <td>Nov 01, 2020</td>\n",
       "      <td>3,061.74</td>\n",
       "      <td>3,366.80</td>\n",
       "      <td>2,950.12</td>\n",
       "      <td>3,168.04</td>\n",
       "      <td>90,810,500</td>\n",
       "      <td>3,168.04</td>\n",
       "    </tr>\n",
       "    <tr>\n",
       "      <th>3</th>\n",
       "      <td>Oct 01, 2020</td>\n",
       "      <td>3,208.00</td>\n",
       "      <td>3,496.24</td>\n",
       "      <td>3,019.00</td>\n",
       "      <td>3,036.15</td>\n",
       "      <td>116,226,100</td>\n",
       "      <td>3,036.15</td>\n",
       "    </tr>\n",
       "    <tr>\n",
       "      <th>4</th>\n",
       "      <td>Sep 01, 2020</td>\n",
       "      <td>3,489.58</td>\n",
       "      <td>3,552.25</td>\n",
       "      <td>2,871.00</td>\n",
       "      <td>3,148.73</td>\n",
       "      <td>115,899,300</td>\n",
       "      <td>3,148.73</td>\n",
       "    </tr>\n",
       "  </tbody>\n",
       "</table>\n",
       "</div>"
      ],
      "text/plain": [
       "           Date      Open      High       Low     Close       Volume Adj Close\n",
       "0  Jan 01, 2021  3,270.00  3,363.89  3,086.00  3,206.20   71,528,900  3,206.20\n",
       "1  Dec 01, 2020  3,188.50  3,350.65  3,072.82  3,256.93   77,556,200  3,256.93\n",
       "2  Nov 01, 2020  3,061.74  3,366.80  2,950.12  3,168.04   90,810,500  3,168.04\n",
       "3  Oct 01, 2020  3,208.00  3,496.24  3,019.00  3,036.15  116,226,100  3,036.15\n",
       "4  Sep 01, 2020  3,489.58  3,552.25  2,871.00  3,148.73  115,899,300  3,148.73"
      ]
     },
     "execution_count": 51,
     "metadata": {},
     "output_type": "execute_result"
    }
   ],
   "source": [
    "amazon_data.head()"
   ]
  },
  {
   "cell_type": "code",
   "execution_count": 52,
   "metadata": {
    "tags": []
   },
   "outputs": [
    {
     "name": "stdout",
     "output_type": "stream",
     "text": [
      "<class 'pandas.core.frame.DataFrame'>\n",
      "RangeIndex: 61 entries, 0 to 60\n",
      "Data columns (total 7 columns):\n",
      " #   Column     Non-Null Count  Dtype \n",
      "---  ------     --------------  ----- \n",
      " 0   Date       61 non-null     object\n",
      " 1   Open       61 non-null     object\n",
      " 2   High       61 non-null     object\n",
      " 3   Low        61 non-null     object\n",
      " 4   Close      61 non-null     object\n",
      " 5   Volume     61 non-null     object\n",
      " 6   Adj Close  61 non-null     object\n",
      "dtypes: object(7)\n",
      "memory usage: 3.5+ KB\n"
     ]
    },
    {
     "data": {
      "text/plain": [
       "Date         object\n",
       "Open         object\n",
       "High         object\n",
       "Low          object\n",
       "Close        object\n",
       "Volume       object\n",
       "Adj Close    object\n",
       "dtype: object"
      ]
     },
     "execution_count": 52,
     "metadata": {},
     "output_type": "execute_result"
    }
   ],
   "source": [
    "amazon_data.shape\n",
    "amazon_data.describe()\n",
    "amazon_data.info()\n",
    "amazon_data.dtypes\n"
   ]
  },
  {
   "cell_type": "markdown",
   "metadata": {},
   "source": [
    "<b>Question 2</b> What is the name of the columns of the dataframe?\n"
   ]
  },
  {
   "cell_type": "code",
   "execution_count": 53,
   "metadata": {
    "tags": []
   },
   "outputs": [
    {
     "data": {
      "text/plain": [
       "Index(['Date', 'Open', 'High', 'Low', 'Close', 'Volume', 'Adj Close'], dtype='object')"
      ]
     },
     "execution_count": 53,
     "metadata": {},
     "output_type": "execute_result"
    }
   ],
   "source": [
    "amazon_data.columns"
   ]
  },
  {
   "cell_type": "markdown",
   "metadata": {},
   "source": [
    "<b>Question 3</b> What is the `Open` of the last row of the amazon_data dataframe?\n"
   ]
  },
  {
   "cell_type": "code",
   "execution_count": 62,
   "metadata": {
    "tags": []
   },
   "outputs": [
    {
     "data": {
      "text/plain": [
       "'656.29'"
      ]
     },
     "execution_count": 62,
     "metadata": {},
     "output_type": "execute_result"
    }
   ],
   "source": [
    "amazon_data.iloc[60].Open"
   ]
  },
  {
   "cell_type": "markdown",
   "metadata": {},
   "source": [
    "<h2>About the Authors:</h2> \n",
    "\n",
    "<a href=\"https://www.linkedin.com/in/joseph-s-50398b136/?utm_medium=Exinfluencer&utm_source=Exinfluencer&utm_content=000026UJ&utm_term=10006555&utm_id=NA-SkillsNetwork-Channel-SkillsNetworkCoursesIBMDeveloperSkillsNetworkPY0220ENSkillsNetwork900-2023-01-01\">Joseph Santarcangelo</a> has a PhD in Electrical Engineering, his research focused on using machine learning, signal processing, and computer vision to determine how videos impact human cognition. Joseph has been working for IBM since he completed his PhD.\n",
    "\n",
    "Azim Hirjani<br>\n",
    "Akansha yadav\n"
   ]
  },
  {
   "cell_type": "markdown",
   "metadata": {},
   "source": [
    "## Change Log\n",
    "\n",
    "| Date (YYYY-MM-DD) | Version | Changed By    |       Change Description              |\n",
    "| ----------------- | ------- | ------------- | ------------------------------------- |\n",
    "|  02-05-2023       |   1.3   | Akansha yadav | Updated Lab content under maintenance |\n",
    "|  2021-06-09       | 1.2     | Lakshmi Holla |   Added URL in question 3             |\n",
    "|  2020-11-10       | 1.1     | Malika Singla |   Deleted the Optional part           |\n",
    "|  2020-08-27       | 1.0     | Malika Singla |   Added lab to GitLab                 |\n",
    "\n",
    "<hr>\n",
    "\n",
    "## <h3 align=\"center\"> © IBM Corporation 2020. All rights reserved. <h3/>\n",
    "\n",
    "<p>\n"
   ]
  }
 ],
 "metadata": {
  "kernelspec": {
   "display_name": "Python 3",
   "language": "python",
   "name": "python3"
  },
  "language_info": {
   "codemirror_mode": {
    "name": "ipython",
    "version": 3
   },
   "file_extension": ".py",
   "mimetype": "text/x-python",
   "name": "python",
   "nbconvert_exporter": "python",
   "pygments_lexer": "ipython3",
   "version": "3.11.4"
  }
 },
 "nbformat": 4,
 "nbformat_minor": 4
}
